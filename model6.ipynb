{
  "cells": [
    {
      "cell_type": "markdown",
      "metadata": {
        "id": "shoT6iFWb5LV"
      },
      "source": [
        "Resources:\n",
        "* https://www.analyticsvidhya.com/blog/2019/06/comprehensive-guide-text-summarization-using-deep-learning-python/\n",
        "* https://www.analyticsvidhya.com/blog/2018/11/introduction-text-summarization-textrank-python/\n",
        "* https://towardsdatascience.com/understand-text-summarization-and-create-your-own-summarizer-in-python-b26a9f09fc70\n",
        "* https://github.com/aravindpai/How-to-build-own-text-summarizer-using-deep-learning"
      ]
    },
    {
      "cell_type": "code",
      "source": [
        "# pip install --upgrade nbconvert --user\n",
        "!pip install --upgrade nbconvert\n"
      ],
      "metadata": {
        "colab": {
          "base_uri": "https://localhost:8080/"
        },
        "id": "Hma9QyyZcFVE",
        "outputId": "c7232dcf-3886-4927-fd1e-d70ed85b3ab6"
      },
      "execution_count": 2,
      "outputs": [
        {
          "output_type": "stream",
          "name": "stdout",
          "text": [
            "Looking in indexes: https://pypi.org/simple, https://us-python.pkg.dev/colab-wheels/public/simple/\n",
            "Requirement already satisfied: nbconvert in /usr/local/lib/python3.10/dist-packages (6.5.4)\n",
            "Collecting nbconvert\n",
            "  Downloading nbconvert-7.4.0-py3-none-any.whl (285 kB)\n",
            "\u001b[2K     \u001b[90m━━━━━━━━━━━━━━━━━━━━━━━━━━━━━━━━━━━━━━\u001b[0m \u001b[32m285.9/285.9 kB\u001b[0m \u001b[31m13.7 MB/s\u001b[0m eta \u001b[36m0:00:00\u001b[0m\n",
            "\u001b[?25hRequirement already satisfied: beautifulsoup4 in /usr/local/lib/python3.10/dist-packages (from nbconvert) (4.11.2)\n",
            "Requirement already satisfied: bleach in /usr/local/lib/python3.10/dist-packages (from nbconvert) (6.0.0)\n",
            "Requirement already satisfied: defusedxml in /usr/local/lib/python3.10/dist-packages (from nbconvert) (0.7.1)\n",
            "Requirement already satisfied: jinja2>=3.0 in /usr/local/lib/python3.10/dist-packages (from nbconvert) (3.1.2)\n",
            "Requirement already satisfied: jupyter-core>=4.7 in /usr/local/lib/python3.10/dist-packages (from nbconvert) (5.3.0)\n",
            "Requirement already satisfied: jupyterlab-pygments in /usr/local/lib/python3.10/dist-packages (from nbconvert) (0.2.2)\n",
            "Requirement already satisfied: markupsafe>=2.0 in /usr/local/lib/python3.10/dist-packages (from nbconvert) (2.1.2)\n",
            "Collecting mistune<3,>=2.0.3 (from nbconvert)\n",
            "  Downloading mistune-2.0.5-py2.py3-none-any.whl (24 kB)\n",
            "Requirement already satisfied: nbclient>=0.5.0 in /usr/local/lib/python3.10/dist-packages (from nbconvert) (0.7.4)\n",
            "Requirement already satisfied: nbformat>=5.1 in /usr/local/lib/python3.10/dist-packages (from nbconvert) (5.8.0)\n",
            "Requirement already satisfied: packaging in /usr/local/lib/python3.10/dist-packages (from nbconvert) (23.1)\n",
            "Requirement already satisfied: pandocfilters>=1.4.1 in /usr/local/lib/python3.10/dist-packages (from nbconvert) (1.5.0)\n",
            "Requirement already satisfied: pygments>=2.4.1 in /usr/local/lib/python3.10/dist-packages (from nbconvert) (2.14.0)\n",
            "Requirement already satisfied: tinycss2 in /usr/local/lib/python3.10/dist-packages (from nbconvert) (1.2.1)\n",
            "Requirement already satisfied: traitlets>=5.0 in /usr/local/lib/python3.10/dist-packages (from nbconvert) (5.7.1)\n",
            "Requirement already satisfied: platformdirs>=2.5 in /usr/local/lib/python3.10/dist-packages (from jupyter-core>=4.7->nbconvert) (3.3.0)\n",
            "Requirement already satisfied: jupyter-client>=6.1.12 in /usr/local/lib/python3.10/dist-packages (from nbclient>=0.5.0->nbconvert) (6.1.12)\n",
            "Requirement already satisfied: fastjsonschema in /usr/local/lib/python3.10/dist-packages (from nbformat>=5.1->nbconvert) (2.16.3)\n",
            "Requirement already satisfied: jsonschema>=2.6 in /usr/local/lib/python3.10/dist-packages (from nbformat>=5.1->nbconvert) (4.3.3)\n",
            "Requirement already satisfied: soupsieve>1.2 in /usr/local/lib/python3.10/dist-packages (from beautifulsoup4->nbconvert) (2.4.1)\n",
            "Requirement already satisfied: six>=1.9.0 in /usr/local/lib/python3.10/dist-packages (from bleach->nbconvert) (1.16.0)\n",
            "Requirement already satisfied: webencodings in /usr/local/lib/python3.10/dist-packages (from bleach->nbconvert) (0.5.1)\n",
            "Requirement already satisfied: attrs>=17.4.0 in /usr/local/lib/python3.10/dist-packages (from jsonschema>=2.6->nbformat>=5.1->nbconvert) (23.1.0)\n",
            "Requirement already satisfied: pyrsistent!=0.17.0,!=0.17.1,!=0.17.2,>=0.14.0 in /usr/local/lib/python3.10/dist-packages (from jsonschema>=2.6->nbformat>=5.1->nbconvert) (0.19.3)\n",
            "Requirement already satisfied: pyzmq>=13 in /usr/local/lib/python3.10/dist-packages (from jupyter-client>=6.1.12->nbclient>=0.5.0->nbconvert) (23.2.1)\n",
            "Requirement already satisfied: python-dateutil>=2.1 in /usr/local/lib/python3.10/dist-packages (from jupyter-client>=6.1.12->nbclient>=0.5.0->nbconvert) (2.8.2)\n",
            "Requirement already satisfied: tornado>=4.1 in /usr/local/lib/python3.10/dist-packages (from jupyter-client>=6.1.12->nbclient>=0.5.0->nbconvert) (6.2)\n",
            "Installing collected packages: mistune, nbconvert\n",
            "  Attempting uninstall: mistune\n",
            "    Found existing installation: mistune 0.8.4\n",
            "    Uninstalling mistune-0.8.4:\n",
            "      Successfully uninstalled mistune-0.8.4\n",
            "  Attempting uninstall: nbconvert\n",
            "    Found existing installation: nbconvert 6.5.4\n",
            "    Uninstalling nbconvert-6.5.4:\n",
            "      Successfully uninstalled nbconvert-6.5.4\n",
            "Successfully installed mistune-2.0.5 nbconvert-7.4.0\n"
          ]
        }
      ]
    },
    {
      "cell_type": "code",
      "execution_count": null,
      "metadata": {
        "_cell_guid": "b1076dfc-b9ad-4769-8c92-a6c4dae69d19",
        "_uuid": "8f2839f25d086af736a60e9eeb907d3b93b6e0e5",
        "id": "ojHuo9vJu7V9"
      },
      "outputs": [],
      "source": [
        "# This Python 3 environment comes with many helpful analytics libraries installed\n",
        "# It is defined by the kaggle/python docker image: https://github.com/kaggle/docker-python\n",
        "# For example, here's several helpful packages to load in \n",
        "\n",
        "#  conda activate text_summary_nltk\n",
        "\n",
        "import numpy as np # linear algebra\n",
        "import pandas as pd # data processing, CSV file I/O (e.g. pd.read_csv)\n",
        "\n",
        "# Input data files are available in the \"../input/\" directory.\n",
        "# For example, running this (by clicking run or pressing Shift+Enter) will list all files under the input directory\n",
        "\n",
        "import os\n",
        "for dirname, _, filenames in os.walk('/kaggle/input'):\n",
        "    for filename in filenames:\n",
        "        print(os.path.join(dirname, filename))\n",
        "\n",
        "# Any results you write to the current directory are saved as output."
      ]
    },
    {
      "cell_type": "code",
      "execution_count": null,
      "metadata": {
        "id": "wlXSdazTb5LZ",
        "outputId": "f18280d1-9c6a-4441-8aed-d2b2dc4a3de9"
      },
      "outputs": [
        {
          "name": "stderr",
          "output_type": "stream",
          "text": [
            "/home/saiful/anaconda3/envs/text_summary_nltk/lib/python3.7/site-packages/tensorflow/python/framework/dtypes.py:516: FutureWarning: Passing (type, 1) or '1type' as a synonym of type is deprecated; in a future version of numpy, it will be understood as (type, (1,)) / '(1,)type'.\n",
            "  _np_qint8 = np.dtype([(\"qint8\", np.int8, 1)])\n",
            "/home/saiful/anaconda3/envs/text_summary_nltk/lib/python3.7/site-packages/tensorflow/python/framework/dtypes.py:517: FutureWarning: Passing (type, 1) or '1type' as a synonym of type is deprecated; in a future version of numpy, it will be understood as (type, (1,)) / '(1,)type'.\n",
            "  _np_quint8 = np.dtype([(\"quint8\", np.uint8, 1)])\n",
            "/home/saiful/anaconda3/envs/text_summary_nltk/lib/python3.7/site-packages/tensorflow/python/framework/dtypes.py:518: FutureWarning: Passing (type, 1) or '1type' as a synonym of type is deprecated; in a future version of numpy, it will be understood as (type, (1,)) / '(1,)type'.\n",
            "  _np_qint16 = np.dtype([(\"qint16\", np.int16, 1)])\n",
            "/home/saiful/anaconda3/envs/text_summary_nltk/lib/python3.7/site-packages/tensorflow/python/framework/dtypes.py:519: FutureWarning: Passing (type, 1) or '1type' as a synonym of type is deprecated; in a future version of numpy, it will be understood as (type, (1,)) / '(1,)type'.\n",
            "  _np_quint16 = np.dtype([(\"quint16\", np.uint16, 1)])\n",
            "/home/saiful/anaconda3/envs/text_summary_nltk/lib/python3.7/site-packages/tensorflow/python/framework/dtypes.py:520: FutureWarning: Passing (type, 1) or '1type' as a synonym of type is deprecated; in a future version of numpy, it will be understood as (type, (1,)) / '(1,)type'.\n",
            "  _np_qint32 = np.dtype([(\"qint32\", np.int32, 1)])\n",
            "/home/saiful/anaconda3/envs/text_summary_nltk/lib/python3.7/site-packages/tensorflow/python/framework/dtypes.py:525: FutureWarning: Passing (type, 1) or '1type' as a synonym of type is deprecated; in a future version of numpy, it will be understood as (type, (1,)) / '(1,)type'.\n",
            "  np_resource = np.dtype([(\"resource\", np.ubyte, 1)])\n",
            "/home/saiful/anaconda3/envs/text_summary_nltk/lib/python3.7/site-packages/tensorboard/compat/tensorflow_stub/dtypes.py:541: FutureWarning: Passing (type, 1) or '1type' as a synonym of type is deprecated; in a future version of numpy, it will be understood as (type, (1,)) / '(1,)type'.\n",
            "  _np_qint8 = np.dtype([(\"qint8\", np.int8, 1)])\n",
            "/home/saiful/anaconda3/envs/text_summary_nltk/lib/python3.7/site-packages/tensorboard/compat/tensorflow_stub/dtypes.py:542: FutureWarning: Passing (type, 1) or '1type' as a synonym of type is deprecated; in a future version of numpy, it will be understood as (type, (1,)) / '(1,)type'.\n",
            "  _np_quint8 = np.dtype([(\"quint8\", np.uint8, 1)])\n",
            "/home/saiful/anaconda3/envs/text_summary_nltk/lib/python3.7/site-packages/tensorboard/compat/tensorflow_stub/dtypes.py:543: FutureWarning: Passing (type, 1) or '1type' as a synonym of type is deprecated; in a future version of numpy, it will be understood as (type, (1,)) / '(1,)type'.\n",
            "  _np_qint16 = np.dtype([(\"qint16\", np.int16, 1)])\n",
            "/home/saiful/anaconda3/envs/text_summary_nltk/lib/python3.7/site-packages/tensorboard/compat/tensorflow_stub/dtypes.py:544: FutureWarning: Passing (type, 1) or '1type' as a synonym of type is deprecated; in a future version of numpy, it will be understood as (type, (1,)) / '(1,)type'.\n",
            "  _np_quint16 = np.dtype([(\"quint16\", np.uint16, 1)])\n",
            "/home/saiful/anaconda3/envs/text_summary_nltk/lib/python3.7/site-packages/tensorboard/compat/tensorflow_stub/dtypes.py:545: FutureWarning: Passing (type, 1) or '1type' as a synonym of type is deprecated; in a future version of numpy, it will be understood as (type, (1,)) / '(1,)type'.\n",
            "  _np_qint32 = np.dtype([(\"qint32\", np.int32, 1)])\n",
            "/home/saiful/anaconda3/envs/text_summary_nltk/lib/python3.7/site-packages/tensorboard/compat/tensorflow_stub/dtypes.py:550: FutureWarning: Passing (type, 1) or '1type' as a synonym of type is deprecated; in a future version of numpy, it will be understood as (type, (1,)) / '(1,)type'.\n",
            "  np_resource = np.dtype([(\"resource\", np.ubyte, 1)])\n",
            "Using TensorFlow backend.\n"
          ]
        }
      ],
      "source": [
        "import re\n",
        "from time import time\n",
        "import spacy\n",
        "import matplotlib.pyplot as plt\n",
        "from sklearn.model_selection import train_test_split\n",
        "from keras.preprocessing.text import Tokenizer \n",
        "from keras.preprocessing.sequence import pad_sequences\n",
        "from keras import backend as K \n",
        "import gensim\n",
        "from numpy import *\n",
        "import numpy as np\n",
        "import pandas as pd \n",
        "import re\n",
        "from bs4 import BeautifulSoup\n",
        "from keras.preprocessing.text import Tokenizer \n",
        "from keras.preprocessing.sequence import pad_sequences\n",
        "from nltk.corpus import stopwords\n",
        "from tensorflow.keras.layers import Input, LSTM, Embedding, Dense, Concatenate, TimeDistributed\n",
        "from tensorflow.keras.models import Model\n",
        "from tensorflow.keras.callbacks import EarlyStopping\n",
        "import warnings\n",
        "pd.set_option(\"display.max_colwidth\", 200)\n",
        "warnings.filterwarnings(\"ignore\")\n",
        "from matplotlib import pyplot"
      ]
    },
    {
      "cell_type": "code",
      "execution_count": null,
      "metadata": {
        "id": "EQPNWKSMx_Uz"
      },
      "outputs": [],
      "source": [
        "# from google.colab import drive\n",
        "# drive.mount('/content/drive')"
      ]
    },
    {
      "cell_type": "code",
      "execution_count": null,
      "metadata": {
        "id": "hW5ZE-H-b5Lb"
      },
      "outputs": [],
      "source": [
        "import os\n",
        "os.environ[\"CUDA_VISIBLE_DEVICES\"]=\"5\""
      ]
    },
    {
      "cell_type": "code",
      "execution_count": null,
      "metadata": {
        "colab": {
          "base_uri": "https://localhost:8080/"
        },
        "id": "p7taK6_xxkbv",
        "outputId": "15d2832a-df48-4e0d-ddcb-4b486ab11218"
      },
      "outputs": [
        {
          "data": {
            "text/plain": [
              "'/home/saiful/text_summarization'"
            ]
          },
          "execution_count": 5,
          "metadata": {},
          "output_type": "execute_result"
        }
      ],
      "source": [
        "import os \n",
        "os.getcwd()"
      ]
    },
    {
      "cell_type": "markdown",
      "metadata": {
        "id": "mIEgFftLu7V_"
      },
      "source": [
        "**Resources - **\n",
        "1. https://www.analyticsvidhya.com/blog/2019/06/comprehensive-guide-text-summarization-using-deep-learning-python/\n",
        "2. https://www.analyticsvidhya.com/blog/2018/11/introduction-text-summarization-textrank-python/\n",
        "3. https://towardsdatascience.com/understand-text-summarization-and-create-your-own-summarizer-in-python-b26a9f09fc70\n",
        "4. https://github.com/aravindpai/How-to-build-own-text-summarizer-using-deep-learning"
      ]
    },
    {
      "cell_type": "code",
      "execution_count": null,
      "metadata": {
        "_cell_guid": "79c7e3d0-c299-4dcb-8224-4455121ee9b0",
        "_uuid": "d629ff2d2480ee46fbb7e2d37f6b5fab8052498a",
        "id": "ePYSm85Cu7WC"
      },
      "outputs": [],
      "source": [
        "# true = pd.read_csv('/content/drive/MyDrive/Colab Notebooks/NLP/True.csv') \n",
        "# false = pd.read_csv('/content/drive/MyDrive/Colab Notebooks/NLP/Fake.csv')\n",
        "\n",
        "# summary = pd.read_csv('/content/drive/MyDrive/Colab Notebooks/Text Summarization/Text_Summarization_with_Seq2Seq_Model/news_summary.csv', encoding='iso-8859-1')\n",
        "# raw = pd.read_csv('/content/drive/MyDrive/Colab Notebooks/Text Summarization/Text_Summarization_with_Seq2Seq_Model/news_summary_more.csv', encoding='iso-8859-1')\n",
        "summary = pd.read_csv('news_summary.csv', encoding='iso-8859-1')\n",
        "raw = pd.read_csv('news_summary_more.csv', encoding='iso-8859-1')"
      ]
    },
    {
      "cell_type": "code",
      "execution_count": null,
      "metadata": {
        "id": "btHrqUUyb5Lc"
      },
      "outputs": [],
      "source": []
    },
    {
      "cell_type": "code",
      "execution_count": null,
      "metadata": {
        "id": "mEQ_ek2db5Lc",
        "outputId": "07c2007e-f39b-48d8-979c-ef7bf3570a8e"
      },
      "outputs": [
        {
          "data": {
            "text/html": [
              "<div>\n",
              "<style scoped>\n",
              "    .dataframe tbody tr th:only-of-type {\n",
              "        vertical-align: middle;\n",
              "    }\n",
              "\n",
              "    .dataframe tbody tr th {\n",
              "        vertical-align: top;\n",
              "    }\n",
              "\n",
              "    .dataframe thead th {\n",
              "        text-align: right;\n",
              "    }\n",
              "</style>\n",
              "<table border=\"1\" class=\"dataframe\">\n",
              "  <thead>\n",
              "    <tr style=\"text-align: right;\">\n",
              "      <th></th>\n",
              "      <th>headlines</th>\n",
              "      <th>text</th>\n",
              "    </tr>\n",
              "  </thead>\n",
              "  <tbody>\n",
              "    <tr>\n",
              "      <th>0</th>\n",
              "      <td>upGrad learner switches to career in ML &amp; Al with 90% salary hike</td>\n",
              "      <td>Saurav Kant, an alumnus of upGrad and IIIT-B's PG Program in Machine learning and Artificial Intelligence, was a Sr Systems Engineer at Infosys with almost 5 years of work experience. The program ...</td>\n",
              "    </tr>\n",
              "    <tr>\n",
              "      <th>1</th>\n",
              "      <td>Delhi techie wins free food from Swiggy for one year on CRED</td>\n",
              "      <td>Kunal Shah's credit card bill payment platform, CRED, gave users a chance to win free food from Swiggy for one year. Pranav Kaushik, a Delhi techie, bagged this reward after spending 2000 CRED coi...</td>\n",
              "    </tr>\n",
              "    <tr>\n",
              "      <th>2</th>\n",
              "      <td>New Zealand end Rohit Sharma-led India's 12-match winning streak</td>\n",
              "      <td>New Zealand defeated India by 8 wickets in the fourth ODI at Hamilton on Thursday to win their first match of the five-match ODI series. India lost an international match under Rohit Sharma's capt...</td>\n",
              "    </tr>\n",
              "    <tr>\n",
              "      <th>3</th>\n",
              "      <td>Aegon life iTerm insurance plan helps customers save tax</td>\n",
              "      <td>With Aegon Life iTerm Insurance plan, customers can enjoy tax benefits on your premiums paid and save up to Ã¢ÂÂ¹46,800^ on taxes. The plan provides life cover up to the age of 100 years. Also, c...</td>\n",
              "    </tr>\n",
              "    <tr>\n",
              "      <th>4</th>\n",
              "      <td>Have known Hirani for yrs, what if MeToo claims are not true: Sonam</td>\n",
              "      <td>Speaking about the sexual harassment allegations against Rajkumar Hirani, Sonam Kapoor said, \"I've known Hirani for many years...What if it's not true, the [#MeToo] movement will get derailed.\" \"I...</td>\n",
              "    </tr>\n",
              "    <tr>\n",
              "      <th>...</th>\n",
              "      <td>...</td>\n",
              "      <td>...</td>\n",
              "    </tr>\n",
              "    <tr>\n",
              "      <th>98396</th>\n",
              "      <td>CRPF jawan axed to death by Maoists in Chhattisgarh</td>\n",
              "      <td>A CRPF jawan was on Tuesday axed to death with sharp-edged weapons by Maoists at a local village fair in Chhattisgarh's insurgency-hit Bijapur district. As per preliminary information, Maoists att...</td>\n",
              "    </tr>\n",
              "    <tr>\n",
              "      <th>98397</th>\n",
              "      <td>First song from Sonakshi Sinha's 'Noor' titled 'Uff Yeh' out</td>\n",
              "      <td>'Uff Yeh', the first song from the Sonakshi Sinha starrer upcoming drama film 'Noor' has been released. The song has been composed by Amaal Mallik with vocals by Armaan Malik and lyrics by Manoj M...</td>\n",
              "    </tr>\n",
              "    <tr>\n",
              "      <th>98398</th>\n",
              "      <td>'The Matrix' film to get a reboot: Reports</td>\n",
              "      <td>According to reports, a new version of the 1999 science fiction film 'The Matrix' is in development. Michael B Jordan will reportedly play the lead role in the film. Screenwriter Zak Penn is in ta...</td>\n",
              "    </tr>\n",
              "    <tr>\n",
              "      <th>98399</th>\n",
              "      <td>Snoop Dogg aims gun at clown dressed as Trump in new video</td>\n",
              "      <td>A new music video shows rapper Snoop Dogg aiming a toy gun at a clown character parodying US President Donald Trump. The video also shows a TV airing a news conference with the headline 'Ronald Kl...</td>\n",
              "    </tr>\n",
              "    <tr>\n",
              "      <th>98400</th>\n",
              "      <td>Madhesi Morcha withdraws support to Nepalese government</td>\n",
              "      <td>Madhesi Morcha, an alliance of seven political parties, has withdrawn support to PM Pushpa Kamal Dahal-led Nepal government after it failed to meet a seven-day ultimatum to fulfil their demands in...</td>\n",
              "    </tr>\n",
              "  </tbody>\n",
              "</table>\n",
              "<p>98401 rows × 2 columns</p>\n",
              "</div>"
            ],
            "text/plain": [
              "                                                                 headlines  \\\n",
              "0        upGrad learner switches to career in ML & Al with 90% salary hike   \n",
              "1             Delhi techie wins free food from Swiggy for one year on CRED   \n",
              "2         New Zealand end Rohit Sharma-led India's 12-match winning streak   \n",
              "3                 Aegon life iTerm insurance plan helps customers save tax   \n",
              "4      Have known Hirani for yrs, what if MeToo claims are not true: Sonam   \n",
              "...                                                                    ...   \n",
              "98396                  CRPF jawan axed to death by Maoists in Chhattisgarh   \n",
              "98397         First song from Sonakshi Sinha's 'Noor' titled 'Uff Yeh' out   \n",
              "98398                           'The Matrix' film to get a reboot: Reports   \n",
              "98399          Snoop Dogg aims gun at clown dressed as Trump in new video    \n",
              "98400              Madhesi Morcha withdraws support to Nepalese government   \n",
              "\n",
              "                                                                                                                                                                                                          text  \n",
              "0      Saurav Kant, an alumnus of upGrad and IIIT-B's PG Program in Machine learning and Artificial Intelligence, was a Sr Systems Engineer at Infosys with almost 5 years of work experience. The program ...  \n",
              "1      Kunal Shah's credit card bill payment platform, CRED, gave users a chance to win free food from Swiggy for one year. Pranav Kaushik, a Delhi techie, bagged this reward after spending 2000 CRED coi...  \n",
              "2      New Zealand defeated India by 8 wickets in the fourth ODI at Hamilton on Thursday to win their first match of the five-match ODI series. India lost an international match under Rohit Sharma's capt...  \n",
              "3      With Aegon Life iTerm Insurance plan, customers can enjoy tax benefits on your premiums paid and save up to Ã¢ÂÂ¹46,800^ on taxes. The plan provides life cover up to the age of 100 years. Also, c...  \n",
              "4      Speaking about the sexual harassment allegations against Rajkumar Hirani, Sonam Kapoor said, \"I've known Hirani for many years...What if it's not true, the [#MeToo] movement will get derailed.\" \"I...  \n",
              "...                                                                                                                                                                                                        ...  \n",
              "98396  A CRPF jawan was on Tuesday axed to death with sharp-edged weapons by Maoists at a local village fair in Chhattisgarh's insurgency-hit Bijapur district. As per preliminary information, Maoists att...  \n",
              "98397  'Uff Yeh', the first song from the Sonakshi Sinha starrer upcoming drama film 'Noor' has been released. The song has been composed by Amaal Mallik with vocals by Armaan Malik and lyrics by Manoj M...  \n",
              "98398  According to reports, a new version of the 1999 science fiction film 'The Matrix' is in development. Michael B Jordan will reportedly play the lead role in the film. Screenwriter Zak Penn is in ta...  \n",
              "98399  A new music video shows rapper Snoop Dogg aiming a toy gun at a clown character parodying US President Donald Trump. The video also shows a TV airing a news conference with the headline 'Ronald Kl...  \n",
              "98400  Madhesi Morcha, an alliance of seven political parties, has withdrawn support to PM Pushpa Kamal Dahal-led Nepal government after it failed to meet a seven-day ultimatum to fulfil their demands in...  \n",
              "\n",
              "[98401 rows x 2 columns]"
            ]
          },
          "execution_count": 7,
          "metadata": {},
          "output_type": "execute_result"
        }
      ],
      "source": [
        "raw"
      ]
    },
    {
      "cell_type": "code",
      "execution_count": null,
      "metadata": {
        "id": "sWistoC5b5Ld",
        "outputId": "abe43da9-9391-42c8-fd59-9f13f75cd3dc"
      },
      "outputs": [
        {
          "data": {
            "text/html": [
              "<div>\n",
              "<style scoped>\n",
              "    .dataframe tbody tr th:only-of-type {\n",
              "        vertical-align: middle;\n",
              "    }\n",
              "\n",
              "    .dataframe tbody tr th {\n",
              "        vertical-align: top;\n",
              "    }\n",
              "\n",
              "    .dataframe thead th {\n",
              "        text-align: right;\n",
              "    }\n",
              "</style>\n",
              "<table border=\"1\" class=\"dataframe\">\n",
              "  <thead>\n",
              "    <tr style=\"text-align: right;\">\n",
              "      <th></th>\n",
              "      <th>headlines</th>\n",
              "      <th>text</th>\n",
              "    </tr>\n",
              "  </thead>\n",
              "  <tbody>\n",
              "    <tr>\n",
              "      <th>0</th>\n",
              "      <td>upGrad learner switches to career in ML &amp; Al with 90% salary hike</td>\n",
              "      <td>Saurav Kant, an alumnus of upGrad and IIIT-B's PG Program in Machine learning and Artificial Intelligence, was a Sr Systems Engineer at Infosys with almost 5 years of work experience. The program ...</td>\n",
              "    </tr>\n",
              "    <tr>\n",
              "      <th>1</th>\n",
              "      <td>Delhi techie wins free food from Swiggy for one year on CRED</td>\n",
              "      <td>Kunal Shah's credit card bill payment platform, CRED, gave users a chance to win free food from Swiggy for one year. Pranav Kaushik, a Delhi techie, bagged this reward after spending 2000 CRED coi...</td>\n",
              "    </tr>\n",
              "    <tr>\n",
              "      <th>2</th>\n",
              "      <td>New Zealand end Rohit Sharma-led India's 12-match winning streak</td>\n",
              "      <td>New Zealand defeated India by 8 wickets in the fourth ODI at Hamilton on Thursday to win their first match of the five-match ODI series. India lost an international match under Rohit Sharma's capt...</td>\n",
              "    </tr>\n",
              "    <tr>\n",
              "      <th>3</th>\n",
              "      <td>Aegon life iTerm insurance plan helps customers save tax</td>\n",
              "      <td>With Aegon Life iTerm Insurance plan, customers can enjoy tax benefits on your premiums paid and save up to Ã¢ÂÂ¹46,800^ on taxes. The plan provides life cover up to the age of 100 years. Also, c...</td>\n",
              "    </tr>\n",
              "    <tr>\n",
              "      <th>4</th>\n",
              "      <td>Have known Hirani for yrs, what if MeToo claims are not true: Sonam</td>\n",
              "      <td>Speaking about the sexual harassment allegations against Rajkumar Hirani, Sonam Kapoor said, \"I've known Hirani for many years...What if it's not true, the [#MeToo] movement will get derailed.\" \"I...</td>\n",
              "    </tr>\n",
              "  </tbody>\n",
              "</table>\n",
              "</div>"
            ],
            "text/plain": [
              "                                                             headlines  \\\n",
              "0    upGrad learner switches to career in ML & Al with 90% salary hike   \n",
              "1         Delhi techie wins free food from Swiggy for one year on CRED   \n",
              "2     New Zealand end Rohit Sharma-led India's 12-match winning streak   \n",
              "3             Aegon life iTerm insurance plan helps customers save tax   \n",
              "4  Have known Hirani for yrs, what if MeToo claims are not true: Sonam   \n",
              "\n",
              "                                                                                                                                                                                                      text  \n",
              "0  Saurav Kant, an alumnus of upGrad and IIIT-B's PG Program in Machine learning and Artificial Intelligence, was a Sr Systems Engineer at Infosys with almost 5 years of work experience. The program ...  \n",
              "1  Kunal Shah's credit card bill payment platform, CRED, gave users a chance to win free food from Swiggy for one year. Pranav Kaushik, a Delhi techie, bagged this reward after spending 2000 CRED coi...  \n",
              "2  New Zealand defeated India by 8 wickets in the fourth ODI at Hamilton on Thursday to win their first match of the five-match ODI series. India lost an international match under Rohit Sharma's capt...  \n",
              "3  With Aegon Life iTerm Insurance plan, customers can enjoy tax benefits on your premiums paid and save up to Ã¢ÂÂ¹46,800^ on taxes. The plan provides life cover up to the age of 100 years. Also, c...  \n",
              "4  Speaking about the sexual harassment allegations against Rajkumar Hirani, Sonam Kapoor said, \"I've known Hirani for many years...What if it's not true, the [#MeToo] movement will get derailed.\" \"I...  "
            ]
          },
          "execution_count": 8,
          "metadata": {},
          "output_type": "execute_result"
        }
      ],
      "source": [
        "raw.head()"
      ]
    },
    {
      "cell_type": "code",
      "execution_count": null,
      "metadata": {
        "id": "Kiuzkd2wb5Ld",
        "outputId": "9084b0d2-dbcc-4bf0-95eb-45aa34efa21f"
      },
      "outputs": [
        {
          "data": {
            "text/plain": [
              "4514"
            ]
          },
          "execution_count": 9,
          "metadata": {},
          "output_type": "execute_result"
        }
      ],
      "source": [
        "len(summary)"
      ]
    },
    {
      "cell_type": "code",
      "execution_count": null,
      "metadata": {
        "id": "CzKnJ1lhb5Le",
        "outputId": "29d530d3-c983-4f50-a972-109da80558fb"
      },
      "outputs": [
        {
          "data": {
            "text/plain": [
              "98401"
            ]
          },
          "execution_count": 10,
          "metadata": {},
          "output_type": "execute_result"
        }
      ],
      "source": [
        "len(raw)"
      ]
    },
    {
      "cell_type": "code",
      "execution_count": null,
      "metadata": {
        "id": "WRksnjwQb5Le",
        "outputId": "e8de1ca6-e095-44f1-9f2d-0c967bc5bd31"
      },
      "outputs": [
        {
          "data": {
            "text/html": [
              "<div>\n",
              "<style scoped>\n",
              "    .dataframe tbody tr th:only-of-type {\n",
              "        vertical-align: middle;\n",
              "    }\n",
              "\n",
              "    .dataframe tbody tr th {\n",
              "        vertical-align: top;\n",
              "    }\n",
              "\n",
              "    .dataframe thead th {\n",
              "        text-align: right;\n",
              "    }\n",
              "</style>\n",
              "<table border=\"1\" class=\"dataframe\">\n",
              "  <thead>\n",
              "    <tr style=\"text-align: right;\">\n",
              "      <th></th>\n",
              "      <th>author</th>\n",
              "      <th>date</th>\n",
              "      <th>headlines</th>\n",
              "      <th>read_more</th>\n",
              "      <th>text</th>\n",
              "      <th>ctext</th>\n",
              "    </tr>\n",
              "  </thead>\n",
              "  <tbody>\n",
              "    <tr>\n",
              "      <th>0</th>\n",
              "      <td>Chhavi Tyagi</td>\n",
              "      <td>03 Aug 2017,Thursday</td>\n",
              "      <td>Daman &amp; Diu revokes mandatory Rakshabandhan in offices order</td>\n",
              "      <td>http://www.hindustantimes.com/india-news/rakshabandhan-compulsory-in-daman-and-diu-women-employees-to-tie-rakhis-to-male-colleagues/story-E5h5U1ZDJii5zFpLXWRkhJ.html?utm_source=inshorts&amp;utm_medium...</td>\n",
              "      <td>The Administration of Union Territory Daman and Diu has revoked its order that made it compulsory for women to tie rakhis to their male colleagues on the occasion of Rakshabandhan on August 7. The...</td>\n",
              "      <td>The Daman and Diu administration on Wednesday withdrew a circular that asked women staff to tie rakhis on male colleagues after the order triggered a backlash from employees and was ripped apart o...</td>\n",
              "    </tr>\n",
              "    <tr>\n",
              "      <th>1</th>\n",
              "      <td>Daisy Mowke</td>\n",
              "      <td>03 Aug 2017,Thursday</td>\n",
              "      <td>Malaika slams user who trolled her for 'divorcing rich man'</td>\n",
              "      <td>http://www.hindustantimes.com/bollywood/malaika-arora-khan-was-trolled-for-divorcing-a-rich-man-her-reply-is-dignity-itself/story-oIPZNI9deImCmabLMMwR2H.html?utm_source=inshorts&amp;utm_medium=referra...</td>\n",
              "      <td>Malaika Arora slammed an Instagram user who trolled her for \"divorcing a rich man\" and \"having fun with the alimony\". \"Her life now is all about wearing short clothes, going to gym or salon, enjoy...</td>\n",
              "      <td>From her special numbers to TV?appearances, Bollywood actor Malaika Arora Khan has managed to carve her own identity. The actor, who made her debut in the Hindi film industry with the blockbuster ...</td>\n",
              "    </tr>\n",
              "    <tr>\n",
              "      <th>2</th>\n",
              "      <td>Arshiya Chopra</td>\n",
              "      <td>03 Aug 2017,Thursday</td>\n",
              "      <td>'Virgin' now corrected to 'Unmarried' in IGIMS' form</td>\n",
              "      <td>http://www.hindustantimes.com/patna/bihar-igims-form-loses-virginity-after-row-opts-for-unmarried-instead/story-8XmHIg39otGBoZAYEBQxMK.html?utm_source=inshorts&amp;utm_medium=referral&amp;utm_campaign=ful...</td>\n",
              "      <td>The Indira Gandhi Institute of Medical Sciences (IGIMS) in Patna on Thursday made corrections in its Marital Declaration Form by changing 'Virgin' option to 'Unmarried'. Earlier, Bihar Health Mini...</td>\n",
              "      <td>The Indira Gandhi Institute of Medical Sciences (IGIMS) in Patna amended its marital declaration form on Thursday, replacing the word ?virgin? with ?unmarried? after controversy.Until now, new rec...</td>\n",
              "    </tr>\n",
              "    <tr>\n",
              "      <th>3</th>\n",
              "      <td>Sumedha Sehra</td>\n",
              "      <td>03 Aug 2017,Thursday</td>\n",
              "      <td>Aaj aapne pakad liya: LeT man Dujana before being killed</td>\n",
              "      <td>http://indiatoday.intoday.in/story/abu-dujana-last-phone-call-lashkar-e-taiba-jammu-and-kashmir/1/1017550.html?utm_source=inshorts&amp;utm_medium=referral&amp;utm_campaign=fullarticle</td>\n",
              "      <td>Lashkar-e-Taiba's Kashmir commander Abu Dujana, who was killed by security forces, said \"Kabhi hum aage, kabhi aap, aaj aapne pakad liya, mubarak ho aapko (Today you caught me. Congratulations)\" a...</td>\n",
              "      <td>Lashkar-e-Taiba's Kashmir commander Abu Dujana was killed in an encounter in a village in Pulwama district of Jammu and Kashmir earlier this week. Dujana, who had managed to give the security forc...</td>\n",
              "    </tr>\n",
              "    <tr>\n",
              "      <th>4</th>\n",
              "      <td>Aarushi Maheshwari</td>\n",
              "      <td>03 Aug 2017,Thursday</td>\n",
              "      <td>Hotel staff to get training to spot signs of sex trafficking</td>\n",
              "      <td>http://indiatoday.intoday.in/story/sex-trafficking-mumbai-rescue-me-maharashtra-international-labour-organization-forced-labour-trafficking-traning-hotel-staff/1/1017210.html?utm_source=inshorts&amp;u...</td>\n",
              "      <td>Hotels in Maharashtra will train their staff to spot signs of sex trafficking, including frequent requests for bed linen changes and 'Do not disturb' signs left on room doors for days. A mobile ph...</td>\n",
              "      <td>Hotels in Mumbai and other Indian cities are to train their staff to spot signs of sex trafficking such as frequent requests for bed linen changes or a \"Do not disturb\" sign left on the door for d...</td>\n",
              "    </tr>\n",
              "  </tbody>\n",
              "</table>\n",
              "</div>"
            ],
            "text/plain": [
              "               author                  date  \\\n",
              "0        Chhavi Tyagi  03 Aug 2017,Thursday   \n",
              "1         Daisy Mowke  03 Aug 2017,Thursday   \n",
              "2      Arshiya Chopra  03 Aug 2017,Thursday   \n",
              "3       Sumedha Sehra  03 Aug 2017,Thursday   \n",
              "4  Aarushi Maheshwari  03 Aug 2017,Thursday   \n",
              "\n",
              "                                                      headlines  \\\n",
              "0  Daman & Diu revokes mandatory Rakshabandhan in offices order   \n",
              "1  Malaika slams user who trolled her for 'divorcing rich man'    \n",
              "2          'Virgin' now corrected to 'Unmarried' in IGIMS' form   \n",
              "3      Aaj aapne pakad liya: LeT man Dujana before being killed   \n",
              "4  Hotel staff to get training to spot signs of sex trafficking   \n",
              "\n",
              "                                                                                                                                                                                                 read_more  \\\n",
              "0  http://www.hindustantimes.com/india-news/rakshabandhan-compulsory-in-daman-and-diu-women-employees-to-tie-rakhis-to-male-colleagues/story-E5h5U1ZDJii5zFpLXWRkhJ.html?utm_source=inshorts&utm_medium...   \n",
              "1  http://www.hindustantimes.com/bollywood/malaika-arora-khan-was-trolled-for-divorcing-a-rich-man-her-reply-is-dignity-itself/story-oIPZNI9deImCmabLMMwR2H.html?utm_source=inshorts&utm_medium=referra...   \n",
              "2  http://www.hindustantimes.com/patna/bihar-igims-form-loses-virginity-after-row-opts-for-unmarried-instead/story-8XmHIg39otGBoZAYEBQxMK.html?utm_source=inshorts&utm_medium=referral&utm_campaign=ful...   \n",
              "3                         http://indiatoday.intoday.in/story/abu-dujana-last-phone-call-lashkar-e-taiba-jammu-and-kashmir/1/1017550.html?utm_source=inshorts&utm_medium=referral&utm_campaign=fullarticle    \n",
              "4  http://indiatoday.intoday.in/story/sex-trafficking-mumbai-rescue-me-maharashtra-international-labour-organization-forced-labour-trafficking-traning-hotel-staff/1/1017210.html?utm_source=inshorts&u...   \n",
              "\n",
              "                                                                                                                                                                                                      text  \\\n",
              "0  The Administration of Union Territory Daman and Diu has revoked its order that made it compulsory for women to tie rakhis to their male colleagues on the occasion of Rakshabandhan on August 7. The...   \n",
              "1  Malaika Arora slammed an Instagram user who trolled her for \"divorcing a rich man\" and \"having fun with the alimony\". \"Her life now is all about wearing short clothes, going to gym or salon, enjoy...   \n",
              "2  The Indira Gandhi Institute of Medical Sciences (IGIMS) in Patna on Thursday made corrections in its Marital Declaration Form by changing 'Virgin' option to 'Unmarried'. Earlier, Bihar Health Mini...   \n",
              "3  Lashkar-e-Taiba's Kashmir commander Abu Dujana, who was killed by security forces, said \"Kabhi hum aage, kabhi aap, aaj aapne pakad liya, mubarak ho aapko (Today you caught me. Congratulations)\" a...   \n",
              "4  Hotels in Maharashtra will train their staff to spot signs of sex trafficking, including frequent requests for bed linen changes and 'Do not disturb' signs left on room doors for days. A mobile ph...   \n",
              "\n",
              "                                                                                                                                                                                                     ctext  \n",
              "0  The Daman and Diu administration on Wednesday withdrew a circular that asked women staff to tie rakhis on male colleagues after the order triggered a backlash from employees and was ripped apart o...  \n",
              "1  From her special numbers to TV?appearances, Bollywood actor Malaika Arora Khan has managed to carve her own identity. The actor, who made her debut in the Hindi film industry with the blockbuster ...  \n",
              "2  The Indira Gandhi Institute of Medical Sciences (IGIMS) in Patna amended its marital declaration form on Thursday, replacing the word ?virgin? with ?unmarried? after controversy.Until now, new rec...  \n",
              "3  Lashkar-e-Taiba's Kashmir commander Abu Dujana was killed in an encounter in a village in Pulwama district of Jammu and Kashmir earlier this week. Dujana, who had managed to give the security forc...  \n",
              "4  Hotels in Mumbai and other Indian cities are to train their staff to spot signs of sex trafficking such as frequent requests for bed linen changes or a \"Do not disturb\" sign left on the door for d...  "
            ]
          },
          "execution_count": 11,
          "metadata": {},
          "output_type": "execute_result"
        }
      ],
      "source": [
        "summary.head()"
      ]
    },
    {
      "cell_type": "markdown",
      "metadata": {
        "id": "Ol3kMbtob5Le"
      },
      "source": [
        "### Taking only first 200 rows to save memory"
      ]
    },
    {
      "cell_type": "code",
      "execution_count": null,
      "metadata": {
        "id": "13J1b8L1b5Le"
      },
      "outputs": [],
      "source": [
        "raw = raw.head(n=200)\n",
        "summary = summary.head(n=200)"
      ]
    },
    {
      "cell_type": "code",
      "execution_count": null,
      "metadata": {
        "id": "HELVQ52Pb5Lf",
        "outputId": "ffcbe48b-af36-44bb-9fd2-fa3e7b0afc42"
      },
      "outputs": [
        {
          "data": {
            "text/html": [
              "<div>\n",
              "<style scoped>\n",
              "    .dataframe tbody tr th:only-of-type {\n",
              "        vertical-align: middle;\n",
              "    }\n",
              "\n",
              "    .dataframe tbody tr th {\n",
              "        vertical-align: top;\n",
              "    }\n",
              "\n",
              "    .dataframe thead th {\n",
              "        text-align: right;\n",
              "    }\n",
              "</style>\n",
              "<table border=\"1\" class=\"dataframe\">\n",
              "  <thead>\n",
              "    <tr style=\"text-align: right;\">\n",
              "      <th></th>\n",
              "      <th>headlines</th>\n",
              "      <th>text</th>\n",
              "    </tr>\n",
              "  </thead>\n",
              "  <tbody>\n",
              "    <tr>\n",
              "      <th>0</th>\n",
              "      <td>upGrad learner switches to career in ML &amp; Al with 90% salary hike</td>\n",
              "      <td>Saurav Kant, an alumnus of upGrad and IIIT-B's PG Program in Machine learning and Artificial Intelligence, was a Sr Systems Engineer at Infosys with almost 5 years of work experience. The program ...</td>\n",
              "    </tr>\n",
              "    <tr>\n",
              "      <th>1</th>\n",
              "      <td>Delhi techie wins free food from Swiggy for one year on CRED</td>\n",
              "      <td>Kunal Shah's credit card bill payment platform, CRED, gave users a chance to win free food from Swiggy for one year. Pranav Kaushik, a Delhi techie, bagged this reward after spending 2000 CRED coi...</td>\n",
              "    </tr>\n",
              "    <tr>\n",
              "      <th>2</th>\n",
              "      <td>New Zealand end Rohit Sharma-led India's 12-match winning streak</td>\n",
              "      <td>New Zealand defeated India by 8 wickets in the fourth ODI at Hamilton on Thursday to win their first match of the five-match ODI series. India lost an international match under Rohit Sharma's capt...</td>\n",
              "    </tr>\n",
              "    <tr>\n",
              "      <th>3</th>\n",
              "      <td>Aegon life iTerm insurance plan helps customers save tax</td>\n",
              "      <td>With Aegon Life iTerm Insurance plan, customers can enjoy tax benefits on your premiums paid and save up to Ã¢ÂÂ¹46,800^ on taxes. The plan provides life cover up to the age of 100 years. Also, c...</td>\n",
              "    </tr>\n",
              "    <tr>\n",
              "      <th>4</th>\n",
              "      <td>Have known Hirani for yrs, what if MeToo claims are not true: Sonam</td>\n",
              "      <td>Speaking about the sexual harassment allegations against Rajkumar Hirani, Sonam Kapoor said, \"I've known Hirani for many years...What if it's not true, the [#MeToo] movement will get derailed.\" \"I...</td>\n",
              "    </tr>\n",
              "    <tr>\n",
              "      <th>...</th>\n",
              "      <td>...</td>\n",
              "      <td>...</td>\n",
              "    </tr>\n",
              "    <tr>\n",
              "      <th>195</th>\n",
              "      <td>Charges dropped against SRK in Alibaug benami property case</td>\n",
              "      <td>Shah Rukh Khan was dismissed of the charge of being a beneficiary of benami property in Maharashtra's Alibaug. The Income Tax Department issued an attachment order in February 2018, stating that t...</td>\n",
              "    </tr>\n",
              "    <tr>\n",
              "      <th>196</th>\n",
              "      <td>Nana Patekar's mother passes away aged 99</td>\n",
              "      <td>Nana Patekar's mother Nirmala Patekar passed away on Tuesday morning, aged 99. The actor and several close family members were present at Oshiwara crematorium in Mumbai where Nirmala's last rites ...</td>\n",
              "    </tr>\n",
              "    <tr>\n",
              "      <th>197</th>\n",
              "      <td>Ravi Kishan's daughter to debut opposite Padmini Kolhapure's son</td>\n",
              "      <td>Actor Ravi Kishan's daughter Riva will make her acting debut opposite actress Padmini Kolhapure's son Priyaank in the film 'Sab Kushal Mangal', which will also feature Akshaye Khanna in a lead rol...</td>\n",
              "    </tr>\n",
              "    <tr>\n",
              "      <th>198</th>\n",
              "      <td>Transferred as complained about Rao's misconduct: CBI SP Balaji</td>\n",
              "      <td>CBI SP T Rajah Balaji has accused that he has been transferred by the interim CBI Director M Nageswara Rao because he complained about Rao's \"misconduct\" to the then director in March 2017. Balaji...</td>\n",
              "    </tr>\n",
              "    <tr>\n",
              "      <th>199</th>\n",
              "      <td>No team can stand in front of this Indian side: Harbhajan</td>\n",
              "      <td>After India registered a 3-0 lead over New Zealand, Harbhajan Singh said, \" [N]o team can stand in front of our team. It is great to see the way our team is playing.\" Comparing the two teams, Harb...</td>\n",
              "    </tr>\n",
              "  </tbody>\n",
              "</table>\n",
              "<p>200 rows × 2 columns</p>\n",
              "</div>"
            ],
            "text/plain": [
              "                                                               headlines  \\\n",
              "0      upGrad learner switches to career in ML & Al with 90% salary hike   \n",
              "1           Delhi techie wins free food from Swiggy for one year on CRED   \n",
              "2       New Zealand end Rohit Sharma-led India's 12-match winning streak   \n",
              "3               Aegon life iTerm insurance plan helps customers save tax   \n",
              "4    Have known Hirani for yrs, what if MeToo claims are not true: Sonam   \n",
              "..                                                                   ...   \n",
              "195          Charges dropped against SRK in Alibaug benami property case   \n",
              "196                            Nana Patekar's mother passes away aged 99   \n",
              "197     Ravi Kishan's daughter to debut opposite Padmini Kolhapure's son   \n",
              "198      Transferred as complained about Rao's misconduct: CBI SP Balaji   \n",
              "199           No team can stand in front of this Indian side: Harbhajan    \n",
              "\n",
              "                                                                                                                                                                                                        text  \n",
              "0    Saurav Kant, an alumnus of upGrad and IIIT-B's PG Program in Machine learning and Artificial Intelligence, was a Sr Systems Engineer at Infosys with almost 5 years of work experience. The program ...  \n",
              "1    Kunal Shah's credit card bill payment platform, CRED, gave users a chance to win free food from Swiggy for one year. Pranav Kaushik, a Delhi techie, bagged this reward after spending 2000 CRED coi...  \n",
              "2    New Zealand defeated India by 8 wickets in the fourth ODI at Hamilton on Thursday to win their first match of the five-match ODI series. India lost an international match under Rohit Sharma's capt...  \n",
              "3    With Aegon Life iTerm Insurance plan, customers can enjoy tax benefits on your premiums paid and save up to Ã¢ÂÂ¹46,800^ on taxes. The plan provides life cover up to the age of 100 years. Also, c...  \n",
              "4    Speaking about the sexual harassment allegations against Rajkumar Hirani, Sonam Kapoor said, \"I've known Hirani for many years...What if it's not true, the [#MeToo] movement will get derailed.\" \"I...  \n",
              "..                                                                                                                                                                                                       ...  \n",
              "195  Shah Rukh Khan was dismissed of the charge of being a beneficiary of benami property in Maharashtra's Alibaug. The Income Tax Department issued an attachment order in February 2018, stating that t...  \n",
              "196  Nana Patekar's mother Nirmala Patekar passed away on Tuesday morning, aged 99. The actor and several close family members were present at Oshiwara crematorium in Mumbai where Nirmala's last rites ...  \n",
              "197  Actor Ravi Kishan's daughter Riva will make her acting debut opposite actress Padmini Kolhapure's son Priyaank in the film 'Sab Kushal Mangal', which will also feature Akshaye Khanna in a lead rol...  \n",
              "198  CBI SP T Rajah Balaji has accused that he has been transferred by the interim CBI Director M Nageswara Rao because he complained about Rao's \"misconduct\" to the then director in March 2017. Balaji...  \n",
              "199  After India registered a 3-0 lead over New Zealand, Harbhajan Singh said, \" [N]o team can stand in front of our team. It is great to see the way our team is playing.\" Comparing the two teams, Harb...  \n",
              "\n",
              "[200 rows x 2 columns]"
            ]
          },
          "execution_count": 13,
          "metadata": {},
          "output_type": "execute_result"
        }
      ],
      "source": [
        "raw"
      ]
    },
    {
      "cell_type": "code",
      "execution_count": null,
      "metadata": {
        "id": "M2J1gTqbb5Lf",
        "outputId": "c9302721-2acf-44db-fdaf-9744cea0120b"
      },
      "outputs": [
        {
          "name": "stdout",
          "output_type": "stream",
          "text": [
            "Row count: 200\n",
            "Column count: 6\n"
          ]
        }
      ],
      "source": [
        "print(\"Row count:\", summary.shape[0])\n",
        "print(\"Column count:\", summary.shape[1])"
      ]
    },
    {
      "cell_type": "code",
      "execution_count": null,
      "metadata": {
        "id": "bSxlPlZWu7WC"
      },
      "outputs": [],
      "source": [
        "pre1 =  raw.iloc[:,0:2].copy()\n",
        "# pre1['head + text'] = pre1['headlines'].str.cat(pre1['text'], sep =\" \") \n",
        "\n",
        "pre2 = summary.iloc[:,0:6].copy()\n",
        "pre2['text'] = pre2['author'].str.cat(pre2['date'].str.cat(pre2['read_more'].str.cat(pre2['text'].str.cat(pre2['ctext'], sep = \" \"), sep =\" \"),sep= \" \"), sep = \" \")"
      ]
    },
    {
      "cell_type": "code",
      "execution_count": null,
      "metadata": {
        "id": "qKi1yCDpu7WD"
      },
      "outputs": [],
      "source": [
        "pre = pd.DataFrame()\n",
        "pre['text'] = pd.concat([pre1['text'], pre2['text']], ignore_index=True)\n",
        "pre['summary'] = pd.concat([pre1['headlines'],pre2['headlines']],ignore_index = True)"
      ]
    },
    {
      "cell_type": "code",
      "execution_count": null,
      "metadata": {
        "id": "2ZtVr9-Su7WD",
        "outputId": "4130725a-f5db-4e2b-c8f9-f9e395b8fe83"
      },
      "outputs": [
        {
          "data": {
            "text/html": [
              "<div>\n",
              "<style scoped>\n",
              "    .dataframe tbody tr th:only-of-type {\n",
              "        vertical-align: middle;\n",
              "    }\n",
              "\n",
              "    .dataframe tbody tr th {\n",
              "        vertical-align: top;\n",
              "    }\n",
              "\n",
              "    .dataframe thead th {\n",
              "        text-align: right;\n",
              "    }\n",
              "</style>\n",
              "<table border=\"1\" class=\"dataframe\">\n",
              "  <thead>\n",
              "    <tr style=\"text-align: right;\">\n",
              "      <th></th>\n",
              "      <th>text</th>\n",
              "      <th>summary</th>\n",
              "    </tr>\n",
              "  </thead>\n",
              "  <tbody>\n",
              "    <tr>\n",
              "      <th>0</th>\n",
              "      <td>Saurav Kant, an alumnus of upGrad and IIIT-B's PG Program in Machine learning and Artificial Intelligence, was a Sr Systems Engineer at Infosys with almost 5 years of work experience. The program ...</td>\n",
              "      <td>upGrad learner switches to career in ML &amp; Al with 90% salary hike</td>\n",
              "    </tr>\n",
              "    <tr>\n",
              "      <th>1</th>\n",
              "      <td>Kunal Shah's credit card bill payment platform, CRED, gave users a chance to win free food from Swiggy for one year. Pranav Kaushik, a Delhi techie, bagged this reward after spending 2000 CRED coi...</td>\n",
              "      <td>Delhi techie wins free food from Swiggy for one year on CRED</td>\n",
              "    </tr>\n",
              "  </tbody>\n",
              "</table>\n",
              "</div>"
            ],
            "text/plain": [
              "                                                                                                                                                                                                      text  \\\n",
              "0  Saurav Kant, an alumnus of upGrad and IIIT-B's PG Program in Machine learning and Artificial Intelligence, was a Sr Systems Engineer at Infosys with almost 5 years of work experience. The program ...   \n",
              "1  Kunal Shah's credit card bill payment platform, CRED, gave users a chance to win free food from Swiggy for one year. Pranav Kaushik, a Delhi techie, bagged this reward after spending 2000 CRED coi...   \n",
              "\n",
              "                                                             summary  \n",
              "0  upGrad learner switches to career in ML & Al with 90% salary hike  \n",
              "1       Delhi techie wins free food from Swiggy for one year on CRED  "
            ]
          },
          "execution_count": 17,
          "metadata": {},
          "output_type": "execute_result"
        }
      ],
      "source": [
        "pre.head(2)"
      ]
    },
    {
      "cell_type": "markdown",
      "metadata": {
        "id": "Y9aqyk6Mu7WE"
      },
      "source": [
        "**Seq2Seq LSTM Modelling**\n",
        "![final.jpg](attachment:final.jpg)"
      ]
    },
    {
      "cell_type": "code",
      "execution_count": null,
      "metadata": {
        "id": "IQmGMAmdu7WE",
        "outputId": "e5f15134-a78e-468c-d38b-43c1c4ef7c39"
      },
      "outputs": [
        {
          "data": {
            "text/plain": [
              "0    Saurav Kant, an alumnus of upGrad and IIIT-B's PG Program in Machine learning and Artificial Intelligence, was a Sr Systems Engineer at Infosys with almost 5 years of work experience. The program ...\n",
              "1    Kunal Shah's credit card bill payment platform, CRED, gave users a chance to win free food from Swiggy for one year. Pranav Kaushik, a Delhi techie, bagged this reward after spending 2000 CRED coi...\n",
              "2    New Zealand defeated India by 8 wickets in the fourth ODI at Hamilton on Thursday to win their first match of the five-match ODI series. India lost an international match under Rohit Sharma's capt...\n",
              "3    With Aegon Life iTerm Insurance plan, customers can enjoy tax benefits on your premiums paid and save up to Ã¢ÂÂ¹46,800^ on taxes. The plan provides life cover up to the age of 100 years. Also, c...\n",
              "4    Speaking about the sexual harassment allegations against Rajkumar Hirani, Sonam Kapoor said, \"I've known Hirani for many years...What if it's not true, the [#MeToo] movement will get derailed.\" \"I...\n",
              "5    Pakistani singer Rahat Fateh Ali Khan has denied receiving any notice from the Enforcement Directorate over allegedly smuggling foreign currency out of India. \"It would have been better if the aut...\n",
              "6    India recorded their lowest ODI total in New Zealand after getting all out for 92 runs in 30.5 overs in the fourth ODI at Hamilton on Thursday. Seven of India's batsmen were dismissed for single-d...\n",
              "7    Weeks after ex-CBI Director Alok Verma told the Department of Personnel and Training to consider him retired, the Home Ministry asked him to join work on the last day of his fixed tenure as Direct...\n",
              "8    Andhra Pradesh CM N Chandrababu Naidu has said, \"When I met then US President Bill Clinton, I addressed him as Mr Clinton, not as 'sir'. (PM Narendra) Modi is my junior in politics...I addressed h...\n",
              "9    Congress candidate Shafia Zubair won the Ramgarh Assembly seat in Rajasthan, by defeating BJP's Sukhwant Singh with a margin of 12,228 votes in the bypoll. With this victory, Congress has taken it...\n",
              "Name: text, dtype: object"
            ]
          },
          "execution_count": 18,
          "metadata": {},
          "output_type": "execute_result"
        }
      ],
      "source": [
        "#LSTM with Attention\n",
        "#pip install keras-self-attention\n",
        "\n",
        "pre['text'][:10]"
      ]
    },
    {
      "cell_type": "markdown",
      "metadata": {
        "id": "9uQkyT00u7WF"
      },
      "source": [
        "> **Perform Data Cleansing**"
      ]
    },
    {
      "cell_type": "code",
      "execution_count": null,
      "metadata": {
        "id": "Ve0cJSPWu7WF"
      },
      "outputs": [],
      "source": [
        "import re\n",
        "\n",
        "#Removes non-alphabetic characters:\n",
        "def text_strip(column):\n",
        "    for row in column:\n",
        "        \n",
        "        #ORDER OF REGEX IS VERY VERY IMPORTANT!!!!!!\n",
        "        \n",
        "        row=re.sub(\"(\\\\t)\", ' ', str(row)).lower() #remove escape charecters\n",
        "        row=re.sub(\"(\\\\r)\", ' ', str(row)).lower() \n",
        "        row=re.sub(\"(\\\\n)\", ' ', str(row)).lower()\n",
        "        \n",
        "        row=re.sub(\"(__+)\", ' ', str(row)).lower()   #remove _ if it occors more than one time consecutively\n",
        "        row=re.sub(\"(--+)\", ' ', str(row)).lower()   #remove - if it occors more than one time consecutively\n",
        "        row=re.sub(\"(~~+)\", ' ', str(row)).lower()   #remove ~ if it occors more than one time consecutively\n",
        "        row=re.sub(\"(\\+\\++)\", ' ', str(row)).lower()   #remove + if it occors more than one time consecutively\n",
        "        row=re.sub(\"(\\.\\.+)\", ' ', str(row)).lower()   #remove . if it occors more than one time consecutively\n",
        "        \n",
        "        row=re.sub(r\"[<>()|&©ø\\[\\]\\'\\\",;?~*!]\", ' ', str(row)).lower() #remove <>()|&©ø\"',;?~*!\n",
        "        \n",
        "        row=re.sub(\"(mailto:)\", ' ', str(row)).lower() #remove mailto:\n",
        "        row=re.sub(r\"(\\\\x9\\d)\", ' ', str(row)).lower() #remove \\x9* in text\n",
        "        row=re.sub(\"([iI][nN][cC]\\d+)\", 'INC_NUM', str(row)).lower() #replace INC nums to INC_NUM\n",
        "        row=re.sub(\"([cC][mM]\\d+)|([cC][hH][gG]\\d+)\", 'CM_NUM', str(row)).lower() #replace CM# and CHG# to CM_NUM\n",
        "        \n",
        "        \n",
        "        row=re.sub(\"(\\.\\s+)\", ' ', str(row)).lower() #remove full stop at end of words(not between)\n",
        "        row=re.sub(\"(\\-\\s+)\", ' ', str(row)).lower() #remove - at end of words(not between)\n",
        "        row=re.sub(\"(\\:\\s+)\", ' ', str(row)).lower() #remove : at end of words(not between)\n",
        "        \n",
        "        row=re.sub(\"(\\s+.\\s+)\", ' ', str(row)).lower() #remove any single charecters hanging between 2 spaces\n",
        "        \n",
        "        #Replace any url as such https://abc.xyz.net/browse/sdf-5327 ====> abc.xyz.net\n",
        "        try:\n",
        "            url = re.search(r'((https*:\\/*)([^\\/\\s]+))(.[^\\s]+)', str(row))\n",
        "            repl_url = url.group(3)\n",
        "            row = re.sub(r'((https*:\\/*)([^\\/\\s]+))(.[^\\s]+)',repl_url, str(row))\n",
        "        except:\n",
        "            pass #there might be emails with no url in them\n",
        "        \n",
        "\n",
        "        \n",
        "        row = re.sub(\"(\\s+)\",' ',str(row)).lower() #remove multiple spaces\n",
        "        \n",
        "        #Should always be last\n",
        "        row=re.sub(\"(\\s+.\\s+)\", ' ', str(row)).lower() #remove any single charecters hanging between 2 spaces\n",
        "\n",
        "        \n",
        "        \n",
        "        yield row\n",
        "\n",
        "\n"
      ]
    },
    {
      "cell_type": "code",
      "execution_count": null,
      "metadata": {
        "id": "jVl2Id3Bb5Lh",
        "outputId": "b9d79f31-48c9-496d-cead-ea4b4f1e9377"
      },
      "outputs": [
        {
          "data": {
            "text/html": [
              "<div>\n",
              "<style scoped>\n",
              "    .dataframe tbody tr th:only-of-type {\n",
              "        vertical-align: middle;\n",
              "    }\n",
              "\n",
              "    .dataframe tbody tr th {\n",
              "        vertical-align: top;\n",
              "    }\n",
              "\n",
              "    .dataframe thead th {\n",
              "        text-align: right;\n",
              "    }\n",
              "</style>\n",
              "<table border=\"1\" class=\"dataframe\">\n",
              "  <thead>\n",
              "    <tr style=\"text-align: right;\">\n",
              "      <th></th>\n",
              "      <th>text</th>\n",
              "      <th>summary</th>\n",
              "    </tr>\n",
              "  </thead>\n",
              "  <tbody>\n",
              "    <tr>\n",
              "      <th>0</th>\n",
              "      <td>Saurav Kant, an alumnus of upGrad and IIIT-B's PG Program in Machine learning and Artificial Intelligence, was a Sr Systems Engineer at Infosys with almost 5 years of work experience. The program ...</td>\n",
              "      <td>upGrad learner switches to career in ML &amp; Al with 90% salary hike</td>\n",
              "    </tr>\n",
              "    <tr>\n",
              "      <th>1</th>\n",
              "      <td>Kunal Shah's credit card bill payment platform, CRED, gave users a chance to win free food from Swiggy for one year. Pranav Kaushik, a Delhi techie, bagged this reward after spending 2000 CRED coi...</td>\n",
              "      <td>Delhi techie wins free food from Swiggy for one year on CRED</td>\n",
              "    </tr>\n",
              "    <tr>\n",
              "      <th>2</th>\n",
              "      <td>New Zealand defeated India by 8 wickets in the fourth ODI at Hamilton on Thursday to win their first match of the five-match ODI series. India lost an international match under Rohit Sharma's capt...</td>\n",
              "      <td>New Zealand end Rohit Sharma-led India's 12-match winning streak</td>\n",
              "    </tr>\n",
              "    <tr>\n",
              "      <th>3</th>\n",
              "      <td>With Aegon Life iTerm Insurance plan, customers can enjoy tax benefits on your premiums paid and save up to Ã¢ÂÂ¹46,800^ on taxes. The plan provides life cover up to the age of 100 years. Also, c...</td>\n",
              "      <td>Aegon life iTerm insurance plan helps customers save tax</td>\n",
              "    </tr>\n",
              "    <tr>\n",
              "      <th>4</th>\n",
              "      <td>Speaking about the sexual harassment allegations against Rajkumar Hirani, Sonam Kapoor said, \"I've known Hirani for many years...What if it's not true, the [#MeToo] movement will get derailed.\" \"I...</td>\n",
              "      <td>Have known Hirani for yrs, what if MeToo claims are not true: Sonam</td>\n",
              "    </tr>\n",
              "  </tbody>\n",
              "</table>\n",
              "</div>"
            ],
            "text/plain": [
              "                                                                                                                                                                                                      text  \\\n",
              "0  Saurav Kant, an alumnus of upGrad and IIIT-B's PG Program in Machine learning and Artificial Intelligence, was a Sr Systems Engineer at Infosys with almost 5 years of work experience. The program ...   \n",
              "1  Kunal Shah's credit card bill payment platform, CRED, gave users a chance to win free food from Swiggy for one year. Pranav Kaushik, a Delhi techie, bagged this reward after spending 2000 CRED coi...   \n",
              "2  New Zealand defeated India by 8 wickets in the fourth ODI at Hamilton on Thursday to win their first match of the five-match ODI series. India lost an international match under Rohit Sharma's capt...   \n",
              "3  With Aegon Life iTerm Insurance plan, customers can enjoy tax benefits on your premiums paid and save up to Ã¢ÂÂ¹46,800^ on taxes. The plan provides life cover up to the age of 100 years. Also, c...   \n",
              "4  Speaking about the sexual harassment allegations against Rajkumar Hirani, Sonam Kapoor said, \"I've known Hirani for many years...What if it's not true, the [#MeToo] movement will get derailed.\" \"I...   \n",
              "\n",
              "                                                               summary  \n",
              "0    upGrad learner switches to career in ML & Al with 90% salary hike  \n",
              "1         Delhi techie wins free food from Swiggy for one year on CRED  \n",
              "2     New Zealand end Rohit Sharma-led India's 12-match winning streak  \n",
              "3             Aegon life iTerm insurance plan helps customers save tax  \n",
              "4  Have known Hirani for yrs, what if MeToo claims are not true: Sonam  "
            ]
          },
          "execution_count": 20,
          "metadata": {},
          "output_type": "execute_result"
        }
      ],
      "source": [
        "pre.head()"
      ]
    },
    {
      "cell_type": "code",
      "execution_count": null,
      "metadata": {
        "id": "g-PB0wxGb5Li",
        "outputId": "cf7844ce-f77e-4667-f8b2-a71b09803669"
      },
      "outputs": [
        {
          "data": {
            "text/plain": [
              "0      Saurav Kant, an alumnus of upGrad and IIIT-B's PG Program in Machine learning and Artificial Intelligence, was a Sr Systems Engineer at Infosys with almost 5 years of work experience. The program ...\n",
              "1      Kunal Shah's credit card bill payment platform, CRED, gave users a chance to win free food from Swiggy for one year. Pranav Kaushik, a Delhi techie, bagged this reward after spending 2000 CRED coi...\n",
              "2      New Zealand defeated India by 8 wickets in the fourth ODI at Hamilton on Thursday to win their first match of the five-match ODI series. India lost an international match under Rohit Sharma's capt...\n",
              "3      With Aegon Life iTerm Insurance plan, customers can enjoy tax benefits on your premiums paid and save up to Ã¢ÂÂ¹46,800^ on taxes. The plan provides life cover up to the age of 100 years. Also, c...\n",
              "4      Speaking about the sexual harassment allegations against Rajkumar Hirani, Sonam Kapoor said, \"I've known Hirani for many years...What if it's not true, the [#MeToo] movement will get derailed.\" \"I...\n",
              "                                                                                                        ...                                                                                                   \n",
              "395    Prashanti Moktan 31 Jul 2017,Monday http://www.hindustantimes.com/hollywood/accusation-of-exploitative-child-audition-is-false-upsetting-angelina-jolie/story-gYbfY47ebkRd6SHXvy4vFO.html?utm_source...\n",
              "396    Aarushi Maheshwari 31 Jul 2017,Monday http://www.hindustantimes.com/india-news/chhattisgarh-teacher-steals-designer-sarees-for-wife-to-wear-in-sawan-sundari-community-gala/story-blAjJSJC6bM4Ov14zp...\n",
              "397    Tanya Dhingra 31 Jul 2017,Monday http://www.hindustantimes.com/bollywood/there-re-no-scenes-of-romance-between-khilji-and-padmavati-shahid-kapoor/story-vOsYSgHnPT24bDz2phFsDN.html?utm_source=insho...\n",
              "398    Tanya Dhingra 31 Jul 2017,Monday http://www.hindustantimes.com/bollywood/bhumi-pednekar-akshay-sir-breaks-the-notion-of-a-superstar/story-7AQrAieZ33TzpohKPEqkhP.html?utm_source=inshorts&utm_medium...\n",
              "399    Mishika Bangia 31 Jul 2017,Monday http://indiatoday.intoday.in/story/narendra-modi-government-corruption-vigilance-department-home-ministry/1/1014881.html?utm_source=inshorts&utm_medium=referral&u...\n",
              "Name: text, Length: 400, dtype: object"
            ]
          },
          "execution_count": 21,
          "metadata": {},
          "output_type": "execute_result"
        }
      ],
      "source": [
        "pre['text']\n"
      ]
    },
    {
      "cell_type": "code",
      "execution_count": null,
      "metadata": {
        "id": "s8itHiCdb5Li",
        "outputId": "1b6f3901-ff25-4827-feb9-8caf6616c11a"
      },
      "outputs": [
        {
          "data": {
            "text/plain": [
              "0        upGrad learner switches to career in ML & Al with 90% salary hike\n",
              "1             Delhi techie wins free food from Swiggy for one year on CRED\n",
              "2         New Zealand end Rohit Sharma-led India's 12-match winning streak\n",
              "3                 Aegon life iTerm insurance plan helps customers save tax\n",
              "4      Have known Hirani for yrs, what if MeToo claims are not true: Sonam\n",
              "                                      ...                                 \n",
              "395            Jolie denies report of using cruel casting process for kids\n",
              "396           Man steals designer saris for wife to wear at beauty pageant\n",
              "397           I went mad on Twitter after watching Bajirao Mastani: Shahid\n",
              "398              Akshay is different from the notion of a superstar: Bhumi\n",
              "399              Govt to take action against corrupt officials from Aug 15\n",
              "Name: summary, Length: 400, dtype: object"
            ]
          },
          "execution_count": 22,
          "metadata": {},
          "output_type": "execute_result"
        }
      ],
      "source": [
        "pre['summary']"
      ]
    },
    {
      "cell_type": "code",
      "execution_count": null,
      "metadata": {
        "id": "WA2dFqL0u7WJ"
      },
      "outputs": [],
      "source": [
        "brief_cleaning1 = text_strip(pre['text'])\n",
        "brief_cleaning2 = text_strip(pre['summary'])"
      ]
    },
    {
      "cell_type": "code",
      "execution_count": null,
      "metadata": {
        "id": "k2x5Q0YGb5Li",
        "outputId": "97ea8fd7-8d68-47aa-96c9-42f8d9289c61"
      },
      "outputs": [
        {
          "data": {
            "text/plain": [
              "<generator object text_strip at 0x7f179d62f9d0>"
            ]
          },
          "execution_count": 24,
          "metadata": {},
          "output_type": "execute_result"
        }
      ],
      "source": [
        "brief_cleaning2"
      ]
    },
    {
      "cell_type": "code",
      "execution_count": null,
      "metadata": {
        "id": "eHQDl2o4u7WK",
        "outputId": "8480825a-2fb4-4bf9-ff65-5f421d58bc49"
      },
      "outputs": [
        {
          "name": "stdout",
          "output_type": "stream",
          "text": [
            "Time to clean up everything: 0.21 mins\n"
          ]
        }
      ],
      "source": [
        "from time import time\n",
        "import spacy\n",
        "nlp = spacy.load(\"/home/saiful/anaconda3/envs/text_summary/lib/python3.9/site-packages/en_core_web_sm/en_core_web_sm-3.5.0/\")\n",
        "# nlp = spacy.load('en_core_web_sm', disable=['ner', 'parser']) # disabling Named Entity Recognition for speed\n",
        "\n",
        "#Taking advantage of spaCy .pipe() method to speed-up the cleaning process:\n",
        "#If data loss seems to be happening(i.e len(text) = 50 instead of 75 etc etc) in this cell , decrease the batch_size parametre \n",
        "\n",
        "t = time()\n",
        "\n",
        "#Batch the data points into 5000 and run on all cores for faster preprocessing\n",
        "# text = [str(doc) for doc in nlp.pipe(brief_cleaning1, batch_size=5000, n_threads=-1)]\n",
        "text = [str(doc) for doc in nlp.pipe(brief_cleaning1, batch_size=5000)]\n",
        "\n",
        "#Takes 7-8 mins\n",
        "print('Time to clean up everything: {} mins'.format(round((time() - t) / 60, 2)))"
      ]
    },
    {
      "cell_type": "code",
      "execution_count": null,
      "metadata": {
        "id": "HLF7QDa8b5Lj",
        "outputId": "7e80fc19-54a9-4dbb-ca31-99e3b6850ef9"
      },
      "outputs": [
        {
          "data": {
            "text/plain": [
              "'saurav kant an alumnus of upgrad and iiit-b pg program in machine learning and artificial intelligence was sr systems engineer at infosys with almost years of work experience the program and upgrad 360-degree career support helped him transition to data scientist at tech mahindra with 90% salary hike upgrad online power learning has powered lakh+ careers.'"
            ]
          },
          "execution_count": 26,
          "metadata": {},
          "output_type": "execute_result"
        }
      ],
      "source": [
        "text[0]"
      ]
    },
    {
      "cell_type": "code",
      "execution_count": null,
      "metadata": {
        "id": "aDxA9Ewfu7WL",
        "outputId": "3a1e0093-3a5b-4afd-af40-40ccf083367d"
      },
      "outputs": [
        {
          "name": "stdout",
          "output_type": "stream",
          "text": [
            "Time to clean up everything: 0.01 mins\n"
          ]
        }
      ],
      "source": [
        "#Taking advantage of spaCy .pipe() method to speed-up the cleaning process:\n",
        "\n",
        "\n",
        "t = time()\n",
        "\n",
        "#Batch the data points into 5000 and run on all cores for faster preprocessing\n",
        "# summary = ['_START_ '+ str(doc) + ' _END_' for doc in nlp.pipe(brief_cleaning2, batch_size=5000, n_threads=-1)]\n",
        "summary = ['_START_ '+ str(doc) + ' _END_' for doc in nlp.pipe(brief_cleaning2, batch_size=5000)]\n",
        "\n",
        "#Takes 7-8 mins\n",
        "print('Time to clean up everything: {} mins'.format(round((time() - t) / 60, 2)))"
      ]
    },
    {
      "cell_type": "code",
      "execution_count": null,
      "metadata": {
        "id": "MoJ4ayjuu7WL",
        "outputId": "d1084b96-446c-41cd-91e4-02a66e529a44"
      },
      "outputs": [
        {
          "data": {
            "text/plain": [
              "['_START_ upgrad learner switches to career in ml al with 90% salary hike _END_',\n",
              " '_START_ delhi techie wins free food from swiggy for one year on cred _END_',\n",
              " '_START_ new zealand end rohit sharma-led india 12-match winning streak _END_',\n",
              " '_START_ aegon life iterm insurance plan helps customers save tax _END_',\n",
              " '_START_ have known hirani for yrs what if metoo claims are not true sonam _END_']"
            ]
          },
          "execution_count": 28,
          "metadata": {},
          "output_type": "execute_result"
        }
      ],
      "source": [
        "summary[:5]"
      ]
    },
    {
      "cell_type": "code",
      "execution_count": null,
      "metadata": {
        "id": "jJUKvow2u7WM",
        "outputId": "9d436f78-7072-4cc9-a36b-9d01e73929ae"
      },
      "outputs": [
        {
          "data": {
            "text/plain": [
              "'_START_ upgrad learner switches to career in ml al with 90% salary hike _END_'"
            ]
          },
          "execution_count": 29,
          "metadata": {},
          "output_type": "execute_result"
        }
      ],
      "source": [
        "summary[0]"
      ]
    },
    {
      "cell_type": "code",
      "execution_count": null,
      "metadata": {
        "id": "7F6fx6m7u7WM"
      },
      "outputs": [],
      "source": [
        "pre['cleaned_text'] = pd.Series(text)\n",
        "pre['cleaned_summary'] = pd.Series(summary)"
      ]
    },
    {
      "cell_type": "code",
      "execution_count": null,
      "metadata": {
        "id": "z3jZ3JHsb5Lk",
        "outputId": "a0f9c9be-6752-4789-8bc8-e9590130ec86"
      },
      "outputs": [
        {
          "data": {
            "text/plain": [
              "0      saurav kant an alumnus of upgrad and iiit-b pg program in machine learning and artificial intelligence was sr systems engineer at infosys with almost years of work experience the program and upgra...\n",
              "1      kunal shah credit card bill payment platform cred gave users chance to win free food from swiggy for one year pranav kaushik delhi techie bagged this reward after spending 2000 cred coins users ge...\n",
              "2      new zealand defeated india by wickets in the fourth odi at hamilton on thursday to win their first match of the five-match odi series india lost an international match under rohit sharma captaincy...\n",
              "3      with aegon life iterm insurance plan customers can enjoy tax benefits on your premiums paid and save up to ã¢ââ¹46 800^ on taxes the plan provides life cover up to the age of 100 years also custo...\n",
              "4      speaking about the sexual harassment allegations against rajkumar hirani sonam kapoor said ve known hirani for many years what if it not true the #metoo movement will get derailed in the #metoo mo...\n",
              "                                                                                                        ...                                                                                                   \n",
              "395    prashanti moktan 31 jul 2017 monday www.hindustantimes.com utm_source=inshorts utm_medium=referral utm_campaign=fullarticle angelina jolie has denied reports of using cruel casting process while a...\n",
              "396    aarushi maheshwari 31 jul 2017 monday www.hindustantimes.com utm_source=inshorts utm_medium=referral utm_campaign=fullarticle chhattisgarh primary school teacher has been arrested for allegedly st...\n",
              "397    tanya dhingra 31 jul 2017 monday www.hindustantimes.com utm_source=inshorts utm_medium=referral utm_campaign=fullarticle shahid kapoor said he went mad on twitter after watching sanjay leela bhans...\n",
              "398    tanya dhingra 31 jul 2017 monday www.hindustantimes.com utm_source=inshorts utm_medium=referral utm_campaign=fullarticle bhumi pednekar has said that akshay kumar is different from the notion of t...\n",
              "399    mishika bangia 31 jul 2017 monday indiatoday.intoday.in utm_source=inshorts utm_medium=referral utm_campaign=fullarticle the modi government is planning to launch crackdown on corrupt officials re...\n",
              "Name: cleaned_text, Length: 400, dtype: object"
            ]
          },
          "execution_count": 31,
          "metadata": {},
          "output_type": "execute_result"
        }
      ],
      "source": [
        "pre['cleaned_text']"
      ]
    },
    {
      "cell_type": "code",
      "execution_count": null,
      "metadata": {
        "id": "o-7tVfS-b5Lk",
        "outputId": "92d7bb96-a957-4693-d39c-7771380dcdc8"
      },
      "outputs": [
        {
          "data": {
            "text/plain": [
              "0        _START_ upgrad learner switches to career in ml al with 90% salary hike _END_\n",
              "1           _START_ delhi techie wins free food from swiggy for one year on cred _END_\n",
              "2         _START_ new zealand end rohit sharma-led india 12-match winning streak _END_\n",
              "3               _START_ aegon life iterm insurance plan helps customers save tax _END_\n",
              "4      _START_ have known hirani for yrs what if metoo claims are not true sonam _END_\n",
              "                                            ...                                       \n",
              "395          _START_ jolie denies report of using cruel casting process for kids _END_\n",
              "396         _START_ man steals designer saris for wife to wear at beauty pageant _END_\n",
              "397          _START_ i went mad on twitter after watching bajirao mastani shahid _END_\n",
              "398               _START_ akshay is different from the notion of superstar bhumi _END_\n",
              "399            _START_ govt to take action against corrupt officials from aug 15 _END_\n",
              "Name: cleaned_summary, Length: 400, dtype: object"
            ]
          },
          "execution_count": 32,
          "metadata": {},
          "output_type": "execute_result"
        }
      ],
      "source": [
        "pre['cleaned_summary']"
      ]
    },
    {
      "cell_type": "code",
      "execution_count": null,
      "metadata": {
        "id": "dKrYqqbQu7WM"
      },
      "outputs": [],
      "source": [
        "text_count = []\n",
        "summary_count = []"
      ]
    },
    {
      "cell_type": "code",
      "execution_count": null,
      "metadata": {
        "id": "u2Yjrgkru7WM"
      },
      "outputs": [],
      "source": [
        "for sent in pre['cleaned_text']:\n",
        "    text_count.append(len(sent.split()))\n",
        "for sent in pre['cleaned_summary']:\n",
        "    summary_count.append(len(sent.split()))"
      ]
    },
    {
      "cell_type": "code",
      "execution_count": null,
      "metadata": {
        "id": "yUPmV9f2u7WM"
      },
      "outputs": [],
      "source": [
        "graph_df= pd.DataFrame()\n",
        "graph_df['text']=text_count\n",
        "graph_df['summary']=summary_count"
      ]
    },
    {
      "cell_type": "code",
      "execution_count": null,
      "metadata": {
        "id": "Ce28SY05u7WN",
        "outputId": "40f332e0-38f4-48f8-a61b-000f1841613d"
      },
      "outputs": [
        {
          "data": {
            "image/png": "[encoded data removed]",
            "text/plain": [
              "<Figure size 640x480 with 2 Axes>"
            ]
          },
          "metadata": {},
          "output_type": "display_data"
        }
      ],
      "source": [
        "import matplotlib.pyplot as plt\n",
        "\n",
        "graph_df.hist(bins = 5)\n",
        "plt.show()"
      ]
    },
    {
      "cell_type": "code",
      "execution_count": null,
      "metadata": {
        "id": "cczjcrGvu7WN",
        "outputId": "291ec01a-ed81-4829-9a01-56bd95f7b197"
      },
      "outputs": [
        {
          "name": "stdout",
          "output_type": "stream",
          "text": [
            "0.9925\n"
          ]
        }
      ],
      "source": [
        "#Check how much % of summary have 0-15 words\n",
        "cnt=0\n",
        "for i in pre['cleaned_summary']:\n",
        "    if(len(i.split())<=15):\n",
        "        cnt=cnt+1\n",
        "print(cnt/len(pre['cleaned_summary']))"
      ]
    },
    {
      "cell_type": "code",
      "execution_count": null,
      "metadata": {
        "id": "QaNtFPL-u7WN",
        "outputId": "6151022e-1de5-4f6d-d42a-785b6b56693d"
      },
      "outputs": [
        {
          "name": "stdout",
          "output_type": "stream",
          "text": [
            "0.5025\n"
          ]
        }
      ],
      "source": [
        "#Check how much % of text have 0-70 words\n",
        "cnt=0\n",
        "for i in pre['cleaned_text']:\n",
        "    if(len(i.split())<=100):\n",
        "        cnt=cnt+1\n",
        "print(cnt/len(pre['cleaned_text']))"
      ]
    },
    {
      "cell_type": "code",
      "execution_count": null,
      "metadata": {
        "id": "ciFYhZNuu7WO"
      },
      "outputs": [],
      "source": [
        "#Model to summarize the text between 0-15 words for Summary and 0-100 words for Text\n",
        "max_text_len=100\n",
        "max_summary_len=15"
      ]
    },
    {
      "cell_type": "code",
      "execution_count": null,
      "metadata": {
        "id": "Rjg0rhj2u7WO"
      },
      "outputs": [],
      "source": [
        "#Select the Summaries and Text between max len defined above\n",
        "\n",
        "cleaned_text =np.array(pre['cleaned_text'])\n",
        "cleaned_summary=np.array(pre['cleaned_summary'])\n",
        "\n",
        "short_text=[]\n",
        "short_summary=[]\n",
        "\n",
        "for i in range(len(cleaned_text)):\n",
        "    if(len(cleaned_summary[i].split())<=max_summary_len and len(cleaned_text[i].split())<=max_text_len):\n",
        "        short_text.append(cleaned_text[i])\n",
        "        short_summary.append(cleaned_summary[i])\n",
        "        \n",
        "post_pre=pd.DataFrame({'text':short_text,'summary':short_summary})"
      ]
    },
    {
      "cell_type": "code",
      "execution_count": null,
      "metadata": {
        "id": "qPFDd8ouu7WP",
        "outputId": "e906cd0c-5226-4598-ff25-2afc0a55de79"
      },
      "outputs": [
        {
          "data": {
            "text/html": [
              "<div>\n",
              "<style scoped>\n",
              "    .dataframe tbody tr th:only-of-type {\n",
              "        vertical-align: middle;\n",
              "    }\n",
              "\n",
              "    .dataframe tbody tr th {\n",
              "        vertical-align: top;\n",
              "    }\n",
              "\n",
              "    .dataframe thead th {\n",
              "        text-align: right;\n",
              "    }\n",
              "</style>\n",
              "<table border=\"1\" class=\"dataframe\">\n",
              "  <thead>\n",
              "    <tr style=\"text-align: right;\">\n",
              "      <th></th>\n",
              "      <th>text</th>\n",
              "      <th>summary</th>\n",
              "    </tr>\n",
              "  </thead>\n",
              "  <tbody>\n",
              "    <tr>\n",
              "      <th>0</th>\n",
              "      <td>saurav kant an alumnus of upgrad and iiit-b pg program in machine learning and artificial intelligence was sr systems engineer at infosys with almost years of work experience the program and upgra...</td>\n",
              "      <td>_START_ upgrad learner switches to career in ml al with 90% salary hike _END_</td>\n",
              "    </tr>\n",
              "    <tr>\n",
              "      <th>1</th>\n",
              "      <td>kunal shah credit card bill payment platform cred gave users chance to win free food from swiggy for one year pranav kaushik delhi techie bagged this reward after spending 2000 cred coins users ge...</td>\n",
              "      <td>_START_ delhi techie wins free food from swiggy for one year on cred _END_</td>\n",
              "    </tr>\n",
              "    <tr>\n",
              "      <th>2</th>\n",
              "      <td>new zealand defeated india by wickets in the fourth odi at hamilton on thursday to win their first match of the five-match odi series india lost an international match under rohit sharma captaincy...</td>\n",
              "      <td>_START_ new zealand end rohit sharma-led india 12-match winning streak _END_</td>\n",
              "    </tr>\n",
              "    <tr>\n",
              "      <th>3</th>\n",
              "      <td>with aegon life iterm insurance plan customers can enjoy tax benefits on your premiums paid and save up to ã¢ââ¹46 800^ on taxes the plan provides life cover up to the age of 100 years also custo...</td>\n",
              "      <td>_START_ aegon life iterm insurance plan helps customers save tax _END_</td>\n",
              "    </tr>\n",
              "    <tr>\n",
              "      <th>4</th>\n",
              "      <td>speaking about the sexual harassment allegations against rajkumar hirani sonam kapoor said ve known hirani for many years what if it not true the #metoo movement will get derailed in the #metoo mo...</td>\n",
              "      <td>_START_ have known hirani for yrs what if metoo claims are not true sonam _END_</td>\n",
              "    </tr>\n",
              "  </tbody>\n",
              "</table>\n",
              "</div>"
            ],
            "text/plain": [
              "                                                                                                                                                                                                      text  \\\n",
              "0  saurav kant an alumnus of upgrad and iiit-b pg program in machine learning and artificial intelligence was sr systems engineer at infosys with almost years of work experience the program and upgra...   \n",
              "1  kunal shah credit card bill payment platform cred gave users chance to win free food from swiggy for one year pranav kaushik delhi techie bagged this reward after spending 2000 cred coins users ge...   \n",
              "2  new zealand defeated india by wickets in the fourth odi at hamilton on thursday to win their first match of the five-match odi series india lost an international match under rohit sharma captaincy...   \n",
              "3  with aegon life iterm insurance plan customers can enjoy tax benefits on your premiums paid and save up to ã¢ââ¹46 800^ on taxes the plan provides life cover up to the age of 100 years also custo...   \n",
              "4  speaking about the sexual harassment allegations against rajkumar hirani sonam kapoor said ve known hirani for many years what if it not true the #metoo movement will get derailed in the #metoo mo...   \n",
              "\n",
              "                                                                           summary  \n",
              "0    _START_ upgrad learner switches to career in ml al with 90% salary hike _END_  \n",
              "1       _START_ delhi techie wins free food from swiggy for one year on cred _END_  \n",
              "2     _START_ new zealand end rohit sharma-led india 12-match winning streak _END_  \n",
              "3           _START_ aegon life iterm insurance plan helps customers save tax _END_  \n",
              "4  _START_ have known hirani for yrs what if metoo claims are not true sonam _END_  "
            ]
          },
          "execution_count": 41,
          "metadata": {},
          "output_type": "execute_result"
        }
      ],
      "source": [
        "post_pre.head(5)"
      ]
    },
    {
      "cell_type": "code",
      "execution_count": null,
      "metadata": {
        "id": "lIznWMfDu7WP"
      },
      "outputs": [],
      "source": [
        "#Add sostok and eostok at \n",
        "post_pre['summary'] = post_pre['summary'].apply(lambda x : 'sostok '+ x + ' eostok')\n"
      ]
    },
    {
      "cell_type": "code",
      "execution_count": null,
      "metadata": {
        "id": "VkKahwrYu7WQ",
        "outputId": "c16d271b-5246-424a-d7e7-84693b96e7bb"
      },
      "outputs": [
        {
          "data": {
            "text/html": [
              "<div>\n",
              "<style scoped>\n",
              "    .dataframe tbody tr th:only-of-type {\n",
              "        vertical-align: middle;\n",
              "    }\n",
              "\n",
              "    .dataframe tbody tr th {\n",
              "        vertical-align: top;\n",
              "    }\n",
              "\n",
              "    .dataframe thead th {\n",
              "        text-align: right;\n",
              "    }\n",
              "</style>\n",
              "<table border=\"1\" class=\"dataframe\">\n",
              "  <thead>\n",
              "    <tr style=\"text-align: right;\">\n",
              "      <th></th>\n",
              "      <th>text</th>\n",
              "      <th>summary</th>\n",
              "    </tr>\n",
              "  </thead>\n",
              "  <tbody>\n",
              "    <tr>\n",
              "      <th>0</th>\n",
              "      <td>saurav kant an alumnus of upgrad and iiit-b pg program in machine learning and artificial intelligence was sr systems engineer at infosys with almost years of work experience the program and upgra...</td>\n",
              "      <td>sostok _START_ upgrad learner switches to career in ml al with 90% salary hike _END_ eostok</td>\n",
              "    </tr>\n",
              "    <tr>\n",
              "      <th>1</th>\n",
              "      <td>kunal shah credit card bill payment platform cred gave users chance to win free food from swiggy for one year pranav kaushik delhi techie bagged this reward after spending 2000 cred coins users ge...</td>\n",
              "      <td>sostok _START_ delhi techie wins free food from swiggy for one year on cred _END_ eostok</td>\n",
              "    </tr>\n",
              "    <tr>\n",
              "      <th>2</th>\n",
              "      <td>new zealand defeated india by wickets in the fourth odi at hamilton on thursday to win their first match of the five-match odi series india lost an international match under rohit sharma captaincy...</td>\n",
              "      <td>sostok _START_ new zealand end rohit sharma-led india 12-match winning streak _END_ eostok</td>\n",
              "    </tr>\n",
              "    <tr>\n",
              "      <th>3</th>\n",
              "      <td>with aegon life iterm insurance plan customers can enjoy tax benefits on your premiums paid and save up to ã¢ââ¹46 800^ on taxes the plan provides life cover up to the age of 100 years also custo...</td>\n",
              "      <td>sostok _START_ aegon life iterm insurance plan helps customers save tax _END_ eostok</td>\n",
              "    </tr>\n",
              "    <tr>\n",
              "      <th>4</th>\n",
              "      <td>speaking about the sexual harassment allegations against rajkumar hirani sonam kapoor said ve known hirani for many years what if it not true the #metoo movement will get derailed in the #metoo mo...</td>\n",
              "      <td>sostok _START_ have known hirani for yrs what if metoo claims are not true sonam _END_ eostok</td>\n",
              "    </tr>\n",
              "  </tbody>\n",
              "</table>\n",
              "</div>"
            ],
            "text/plain": [
              "                                                                                                                                                                                                      text  \\\n",
              "0  saurav kant an alumnus of upgrad and iiit-b pg program in machine learning and artificial intelligence was sr systems engineer at infosys with almost years of work experience the program and upgra...   \n",
              "1  kunal shah credit card bill payment platform cred gave users chance to win free food from swiggy for one year pranav kaushik delhi techie bagged this reward after spending 2000 cred coins users ge...   \n",
              "2  new zealand defeated india by wickets in the fourth odi at hamilton on thursday to win their first match of the five-match odi series india lost an international match under rohit sharma captaincy...   \n",
              "3  with aegon life iterm insurance plan customers can enjoy tax benefits on your premiums paid and save up to ã¢ââ¹46 800^ on taxes the plan provides life cover up to the age of 100 years also custo...   \n",
              "4  speaking about the sexual harassment allegations against rajkumar hirani sonam kapoor said ve known hirani for many years what if it not true the #metoo movement will get derailed in the #metoo mo...   \n",
              "\n",
              "                                                                                         summary  \n",
              "0    sostok _START_ upgrad learner switches to career in ml al with 90% salary hike _END_ eostok  \n",
              "1       sostok _START_ delhi techie wins free food from swiggy for one year on cred _END_ eostok  \n",
              "2     sostok _START_ new zealand end rohit sharma-led india 12-match winning streak _END_ eostok  \n",
              "3           sostok _START_ aegon life iterm insurance plan helps customers save tax _END_ eostok  \n",
              "4  sostok _START_ have known hirani for yrs what if metoo claims are not true sonam _END_ eostok  "
            ]
          },
          "execution_count": 43,
          "metadata": {},
          "output_type": "execute_result"
        }
      ],
      "source": [
        "post_pre.head(5)"
      ]
    },
    {
      "cell_type": "markdown",
      "metadata": {
        "id": "7UGtI-Jqu7WQ"
      },
      "source": [
        "**SEQ2SEQ MODEL BUILDING **"
      ]
    },
    {
      "cell_type": "markdown",
      "metadata": {
        "id": "z94aWKplu7WQ"
      },
      "source": [
        "Split the data to TRAIN and VALIDATION sets"
      ]
    },
    {
      "cell_type": "code",
      "execution_count": null,
      "metadata": {
        "id": "rTbwlcw3u7WQ"
      },
      "outputs": [],
      "source": [
        "from sklearn.model_selection import train_test_split\n",
        "x_tr,x_val,y_tr,y_val=train_test_split(np.array(post_pre['text']),np.array(post_pre['summary']),test_size=0.1,random_state=0,shuffle=True)"
      ]
    },
    {
      "cell_type": "code",
      "execution_count": null,
      "metadata": {
        "id": "qYO8uZ5mu7WQ"
      },
      "outputs": [],
      "source": [
        "#Lets tokenize the text to get the vocab count , you can use Spacy here also\n",
        "\n",
        "from keras.preprocessing.text import Tokenizer \n",
        "from keras.preprocessing.sequence import pad_sequences\n",
        "\n",
        "#prepare a tokenizer for reviews on training data\n",
        "x_tokenizer = Tokenizer() \n",
        "x_tokenizer.fit_on_texts(list(x_tr))"
      ]
    },
    {
      "cell_type": "markdown",
      "metadata": {
        "id": "cDhEDuPSu7WR"
      },
      "source": [
        "**RARE WORD ANALYSIS FOR X i.e 'text'**\n",
        "* tot_cnt gives the size of vocabulary (which means every unique words in the text)\n",
        "\n",
        "* cnt gives me the no. of rare words whose count falls below threshold\n",
        "\n",
        "* tot_cnt - cnt gives me the top most common words"
      ]
    },
    {
      "cell_type": "code",
      "execution_count": null,
      "metadata": {
        "id": "V6gfq8NLu7WR",
        "outputId": "b5e2beb1-c883-4351-859f-6c2fe06b283d"
      },
      "outputs": [
        {
          "name": "stdout",
          "output_type": "stream",
          "text": [
            "% of rare words in vocabulary: 86.38822115384616\n",
            "Total Coverage of rare words: 38.556661192155346\n"
          ]
        }
      ],
      "source": [
        "thresh=4\n",
        "\n",
        "cnt=0\n",
        "tot_cnt=0\n",
        "freq=0\n",
        "tot_freq=0\n",
        "\n",
        "for key,value in x_tokenizer.word_counts.items():\n",
        "    tot_cnt=tot_cnt+1\n",
        "    tot_freq=tot_freq+value\n",
        "    if(value<thresh):\n",
        "        cnt=cnt+1\n",
        "        freq=freq+value\n",
        "    \n",
        "print(\"% of rare words in vocabulary:\",(cnt/tot_cnt)*100)\n",
        "print(\"Total Coverage of rare words:\",(freq/tot_freq)*100)"
      ]
    },
    {
      "cell_type": "code",
      "execution_count": null,
      "metadata": {
        "id": "pXqwO0uau7WR",
        "outputId": "01927c35-8a8a-4485-bf30-08cd035eb98c"
      },
      "outputs": [
        {
          "data": {
            "text/plain": [
              "<keras_preprocessing.text.Tokenizer at 0x7f17998646d0>"
            ]
          },
          "execution_count": 47,
          "metadata": {},
          "output_type": "execute_result"
        }
      ],
      "source": [
        "# flag\n",
        "#prepare a tokenizer for reviews on training data\n",
        "x_tokenizer = Tokenizer(num_words=tot_cnt-cnt) \n",
        "x_tokenizer.fit_on_texts(list(x_tr))\n",
        "x_tokenizer\n"
      ]
    },
    {
      "cell_type": "code",
      "execution_count": null,
      "metadata": {
        "id": "UZ7lLM-Mb5Lq"
      },
      "outputs": [],
      "source": [
        "#convert text sequences into integer sequences (i.e one-hot encodeing all the words)\n",
        "x_tr_seq    =   x_tokenizer.texts_to_sequences(x_tr) \n",
        "x_val_seq   =   x_tokenizer.texts_to_sequences(x_val)"
      ]
    },
    {
      "cell_type": "code",
      "execution_count": null,
      "metadata": {
        "id": "TpLm1yF5b5Lq",
        "outputId": "4fe87a1f-ebbf-4c7f-df05-d58134784bf8"
      },
      "outputs": [
        {
          "name": "stdout",
          "output_type": "stream",
          "text": [
            "x_tr_seq[:5] : [[140, 6, 46, 7, 29, 123, 3, 197, 3, 1, 244, 245, 329, 246, 100, 4, 330, 140, 197, 246, 2, 170, 100, 141, 1, 245, 63, 331, 197, 2, 247, 100, 1, 3, 5, 8, 1, 81, 124, 3, 101, 198, 125, 60], [1, 35, 171, 86, 9, 18, 25, 2, 3, 34, 5, 14, 44, 4, 3, 34, 3, 4, 1, 1, 86, 95, 113, 5, 3, 34, 2, 39], [61, 64, 248, 17, 52, 48, 49, 53, 18, 199, 40, 30, 9, 249, 27, 30, 172, 30, 5, 1, 332, 15, 2, 41, 15, 12, 200, 11, 7, 11, 22, 142, 41, 126, 3, 3, 1, 143], [65, 250, 23, 42, 201, 333, 16, 127, 251, 18, 1, 56, 4, 10, 3, 173, 6, 46, 1, 75, 7, 16, 2, 10, 202, 11, 16, 17, 76, 28, 40, 1, 247, 23, 42, 5, 23, 42, 30, 31, 2, 39, 21, 1, 128, 57, 31, 252], [253, 9, 32, 43, 8, 334, 3, 18, 1, 15, 254, 4, 255, 6, 199, 69, 335, 203, 1, 15, 254, 4, 18, 334, 2, 1, 87]]\n"
          ]
        },
        {
          "data": {
            "text/plain": [
              "list"
            ]
          },
          "execution_count": 49,
          "metadata": {},
          "output_type": "execute_result"
        }
      ],
      "source": [
        "print(\"x_tr_seq[:5] :\",x_tr_seq[:5] )\n",
        "type(x_tr_seq)"
      ]
    },
    {
      "cell_type": "code",
      "execution_count": null,
      "metadata": {
        "id": "S3SgPl7Ub5Lq"
      },
      "outputs": [],
      "source": [
        "#padding zero upto maximum length\n",
        "x_tr    =   pad_sequences(x_tr_seq,  maxlen=max_text_len, padding='post')\n",
        "x_val   =   pad_sequences(x_val_seq, maxlen=max_text_len, padding='post')"
      ]
    },
    {
      "cell_type": "code",
      "execution_count": null,
      "metadata": {
        "id": "p-E9N7Ogb5Lq",
        "outputId": "4eb1d7df-20d3-492c-d7df-e895de4718df"
      },
      "outputs": [
        {
          "name": "stdout",
          "output_type": "stream",
          "text": [
            "Size of vocabulary in X = 454\n"
          ]
        }
      ],
      "source": [
        "#size of vocabulary ( +1 for padding token)\n",
        "x_voc   =  x_tokenizer.num_words + 1\n",
        "\n",
        "print(\"Size of vocabulary in X = {}\".format(x_voc))"
      ]
    },
    {
      "cell_type": "markdown",
      "metadata": {
        "id": "1rT9ahEiu7WR"
      },
      "source": [
        "**RARE WORD ANALYSIS FOR Y i.e 'summary'**\n",
        "* tot_cnt gives the size of vocabulary (which means every unique words in the text)\n",
        "\n",
        "* cnt gives me the no. of rare words whose count falls below threshold\n",
        "\n",
        "* tot_cnt - cnt gives me the top most common words"
      ]
    },
    {
      "cell_type": "code",
      "execution_count": null,
      "metadata": {
        "id": "MBZpze_Fu7WR"
      },
      "outputs": [],
      "source": [
        "#prepare a tokenizer for reviews on training data\n",
        "y_tokenizer = Tokenizer()   \n",
        "y_tokenizer.fit_on_texts(list(y_tr))"
      ]
    },
    {
      "cell_type": "code",
      "execution_count": null,
      "metadata": {
        "id": "pTaQL7Dpu7WS",
        "outputId": "b8bf916b-6316-42ee-bcc4-af1b36be5bec"
      },
      "outputs": [
        {
          "name": "stdout",
          "output_type": "stream",
          "text": [
            "% of rare words in vocabulary: 97.3897389738974\n",
            "Total Coverage of rare words: 56.9888178913738\n"
          ]
        }
      ],
      "source": [
        "thresh=6\n",
        "\n",
        "cnt=0\n",
        "tot_cnt=0\n",
        "freq=0\n",
        "tot_freq=0\n",
        "\n",
        "for key,value in y_tokenizer.word_counts.items():\n",
        "    tot_cnt=tot_cnt+1\n",
        "    tot_freq=tot_freq+value\n",
        "    if(value<thresh):\n",
        "        cnt=cnt+1\n",
        "        freq=freq+value\n",
        "    \n",
        "print(\"% of rare words in vocabulary:\",(cnt/tot_cnt)*100)\n",
        "print(\"Total Coverage of rare words:\",(freq/tot_freq)*100)"
      ]
    },
    {
      "cell_type": "code",
      "execution_count": null,
      "metadata": {
        "id": "jdkXAs2mu7WS",
        "outputId": "4aa22598-2d3e-4eb0-cb9e-031f08c90c08"
      },
      "outputs": [
        {
          "name": "stdout",
          "output_type": "stream",
          "text": [
            "Size of vocabulary in Y = 30\n"
          ]
        }
      ],
      "source": [
        "#prepare a tokenizer for reviews on training data\n",
        "y_tokenizer = Tokenizer(num_words=tot_cnt-cnt) \n",
        "y_tokenizer.fit_on_texts(list(y_tr))\n",
        "\n",
        "#convert text sequences into integer sequences (i.e one hot encode the text in Y)\n",
        "y_tr_seq    =   y_tokenizer.texts_to_sequences(y_tr) \n",
        "y_val_seq   =   y_tokenizer.texts_to_sequences(y_val) \n",
        "\n",
        "#padding zero upto maximum length\n",
        "y_tr    =   pad_sequences(y_tr_seq, maxlen=max_summary_len, padding='post')\n",
        "y_val   =   pad_sequences(y_val_seq, maxlen=max_summary_len, padding='post')\n",
        "\n",
        "#size of vocabulary\n",
        "y_voc  =   y_tokenizer.num_words +1\n",
        "print(\"Size of vocabulary in Y = {}\".format(y_voc))"
      ]
    },
    {
      "cell_type": "markdown",
      "metadata": {
        "id": "0r6figG8u7WS"
      },
      "source": [
        "We will now remove \"Summary\" i.e Y (both train and val) which has only _START_ and _END_"
      ]
    },
    {
      "cell_type": "code",
      "execution_count": null,
      "metadata": {
        "id": "JWreh66cu7WS"
      },
      "outputs": [],
      "source": [
        "ind=[]\n",
        "for i in range(len(y_tr)):\n",
        "    cnt=0\n",
        "    for j in y_tr[i]:\n",
        "        if j!=0:\n",
        "            cnt=cnt+1\n",
        "    if(cnt==2):\n",
        "        ind.append(i)\n",
        "\n",
        "y_tr=np.delete(y_tr,ind, axis=0)\n",
        "x_tr=np.delete(x_tr,ind, axis=0)"
      ]
    },
    {
      "cell_type": "code",
      "execution_count": null,
      "metadata": {
        "id": "ZnjYtJcTu7WS"
      },
      "outputs": [],
      "source": [
        "ind=[]\n",
        "for i in range(len(y_val)):\n",
        "    cnt=0\n",
        "    for j in y_val[i]:\n",
        "        if j!=0:\n",
        "            cnt=cnt+1\n",
        "    if(cnt==2):\n",
        "        ind.append(i)\n",
        "\n",
        "y_val=np.delete(y_val,ind, axis=0)\n",
        "x_val=np.delete(x_val,ind, axis=0)"
      ]
    },
    {
      "cell_type": "code",
      "execution_count": null,
      "metadata": {
        "id": "ArDYCPQIu7WS",
        "outputId": "26d38af8-4640-40d7-d7e0-6179c01bedad"
      },
      "outputs": [
        {
          "name": "stdout",
          "output_type": "stream",
          "text": [
            "Size of vocabulary from the w2v model = 454\n",
            "WARNING:tensorflow:From /home/saiful/anaconda3/envs/text_summary_nltk/lib/python3.7/site-packages/tensorflow/python/keras/initializers.py:119: calling RandomUniform.__init__ (from tensorflow.python.ops.init_ops) with dtype is deprecated and will be removed in a future version.\n",
            "Instructions for updating:\n",
            "Call initializer instance with the dtype argument instead of passing it to the constructor\n",
            "WARNING:tensorflow:From /home/saiful/anaconda3/envs/text_summary_nltk/lib/python3.7/site-packages/tensorflow/python/ops/init_ops.py:1251: calling VarianceScaling.__init__ (from tensorflow.python.ops.init_ops) with dtype is deprecated and will be removed in a future version.\n",
            "Instructions for updating:\n",
            "Call initializer instance with the dtype argument instead of passing it to the constructor\n",
            "Model: \"model\"\n",
            "__________________________________________________________________________________________________\n",
            "Layer (type)                    Output Shape         Param #     Connected to                     \n",
            "==================================================================================================\n",
            "input_1 (InputLayer)            [(None, 100)]        0                                            \n",
            "__________________________________________________________________________________________________\n",
            "embedding (Embedding)           (None, 100, 200)     90800       input_1[0][0]                    \n",
            "__________________________________________________________________________________________________\n",
            "lstm (LSTM)                     [(None, 100, 300), ( 601200      embedding[0][0]                  \n",
            "__________________________________________________________________________________________________\n",
            "input_2 (InputLayer)            [(None, None)]       0                                            \n",
            "__________________________________________________________________________________________________\n",
            "lstm_1 (LSTM)                   [(None, 100, 300), ( 721200      lstm[0][0]                       \n",
            "__________________________________________________________________________________________________\n",
            "embedding_1 (Embedding)         (None, None, 200)    6000        input_2[0][0]                    \n",
            "__________________________________________________________________________________________________\n",
            "lstm_2 (LSTM)                   [(None, 100, 300), ( 721200      lstm_1[0][0]                     \n",
            "__________________________________________________________________________________________________\n",
            "lstm_3 (LSTM)                   [(None, None, 300),  601200      embedding_1[0][0]                \n",
            "                                                                 lstm_2[0][1]                     \n",
            "                                                                 lstm_2[0][2]                     \n",
            "__________________________________________________________________________________________________\n",
            "time_distributed (TimeDistribut (None, None, 30)     9030        lstm_3[0][0]                     \n",
            "==================================================================================================\n",
            "Total params: 2,750,630\n",
            "Trainable params: 2,750,630\n",
            "Non-trainable params: 0\n",
            "__________________________________________________________________________________________________\n"
          ]
        }
      ],
      "source": [
        "from keras import backend as K \n",
        "import gensim\n",
        "from numpy import *\n",
        "import numpy as np\n",
        "import pandas as pd \n",
        "import re\n",
        "from bs4 import BeautifulSoup\n",
        "from keras.preprocessing.text import Tokenizer \n",
        "from keras.preprocessing.sequence import pad_sequences\n",
        "from nltk.corpus import stopwords\n",
        "from tensorflow.keras.layers import Input, LSTM, Embedding, Dense, Concatenate, TimeDistributed\n",
        "from tensorflow.keras.models import Model\n",
        "from tensorflow.keras.callbacks import EarlyStopping\n",
        "import warnings\n",
        "pd.set_option(\"display.max_colwidth\", 200)\n",
        "warnings.filterwarnings(\"ignore\")\n",
        "\n",
        "print(\"Size of vocabulary from the w2v model = {}\".format(x_voc))\n",
        "\n",
        "K.clear_session()\n",
        "\n",
        "latent_dim = 300\n",
        "embedding_dim=200\n",
        "\n",
        "# Encoder\n",
        "encoder_inputs = Input(shape=(max_text_len,))\n",
        "\n",
        "#embedding layer\n",
        "enc_emb =  Embedding(x_voc, embedding_dim,trainable=True)(encoder_inputs)\n",
        "\n",
        "#encoder lstm 1\n",
        "encoder_lstm1 = LSTM(latent_dim,return_sequences=True,return_state=True,dropout=0.4,recurrent_dropout=0.4)\n",
        "encoder_output1, state_h1, state_c1 = encoder_lstm1(enc_emb)\n",
        "\n",
        "#encoder lstm 2\n",
        "encoder_lstm2 = LSTM(latent_dim,return_sequences=True,return_state=True,dropout=0.4,recurrent_dropout=0.4)\n",
        "encoder_output2, state_h2, state_c2 = encoder_lstm2(encoder_output1)\n",
        "\n",
        "#encoder lstm 3\n",
        "encoder_lstm3=LSTM(latent_dim, return_state=True, return_sequences=True,dropout=0.4,recurrent_dropout=0.4)\n",
        "encoder_outputs, state_h, state_c= encoder_lstm3(encoder_output2)\n",
        "\n",
        "# Set up the decoder, using `encoder_states` as initial state.\n",
        "decoder_inputs = Input(shape=(None,))\n",
        "\n",
        "#embedding layer\n",
        "dec_emb_layer = Embedding(y_voc, embedding_dim,trainable=True)\n",
        "dec_emb = dec_emb_layer(decoder_inputs)\n",
        "\n",
        "decoder_lstm = LSTM(latent_dim, return_sequences=True, return_state=True,dropout=0.4,recurrent_dropout=0.2)\n",
        "decoder_outputs,decoder_fwd_state, decoder_back_state = decoder_lstm(dec_emb,initial_state=[state_h, state_c])\n",
        "\n",
        "#dense layer\n",
        "decoder_dense =  TimeDistributed(Dense(y_voc, activation='softmax'))\n",
        "decoder_outputs = decoder_dense(decoder_outputs)\n",
        "\n",
        "# Define the model \n",
        "model = Model([encoder_inputs, decoder_inputs], decoder_outputs)\n",
        "\n",
        "model.summary()\n"
      ]
    },
    {
      "cell_type": "code",
      "execution_count": null,
      "metadata": {
        "id": "rx-w1JFHu7WT"
      },
      "outputs": [],
      "source": [
        "model.compile(optimizer='rmsprop', loss='sparse_categorical_crossentropy')\n"
      ]
    },
    {
      "cell_type": "code",
      "execution_count": null,
      "metadata": {
        "id": "8n9oyK5Hu7WT"
      },
      "outputs": [],
      "source": [
        "es = EarlyStopping(monitor='val_loss', mode='min', verbose=1,patience=2)\n"
      ]
    },
    {
      "cell_type": "markdown",
      "metadata": {
        "id": "THTflDRIb5Lu"
      },
      "source": [
        "### model input"
      ]
    },
    {
      "cell_type": "code",
      "execution_count": null,
      "metadata": {
        "id": "Ux0qquglb5Lu",
        "outputId": "73d28e75-da3f-49ed-94a4-95ac6a60c356"
      },
      "outputs": [
        {
          "name": "stdout",
          "output_type": "stream",
          "text": [
            "x_tr.shape : (178, 100)\n"
          ]
        }
      ],
      "source": [
        "x_tr\n",
        "print(\"x_tr.shape :\",x_tr.shape  )"
      ]
    },
    {
      "cell_type": "code",
      "execution_count": null,
      "metadata": {
        "id": "P_v5RBUxb5Lv",
        "outputId": "64507a1e-6064-40f8-c6bc-2ded8d4ec81a"
      },
      "outputs": [
        {
          "name": "stdout",
          "output_type": "stream",
          "text": [
            "y_tr.shape : (178, 15)\n"
          ]
        }
      ],
      "source": [
        "y_tr\n",
        "print(\"y_tr.shape :\",y_tr.shape  )"
      ]
    },
    {
      "cell_type": "code",
      "execution_count": null,
      "metadata": {
        "id": "7txaIpGRb5Lv",
        "outputId": "8ba9d642-3753-4092-a96c-8df3e443e81a"
      },
      "outputs": [
        {
          "name": "stdout",
          "output_type": "stream",
          "text": [
            "y_tr[:,:-1].shape : (178, 14)\n"
          ]
        }
      ],
      "source": [
        "y_tr[:,:-1]\n",
        "print(\"y_tr[:,:-1].shape :\",y_tr[:,:-1].shape  )"
      ]
    },
    {
      "cell_type": "code",
      "execution_count": null,
      "metadata": {
        "id": "FI3CrLnTb5Lv",
        "outputId": "7f3c0a9c-5bf1-471d-f404-e738a1526dec"
      },
      "outputs": [
        {
          "data": {
            "text/plain": [
              "15"
            ]
          },
          "execution_count": 63,
          "metadata": {},
          "output_type": "execute_result"
        }
      ],
      "source": [
        "y_tr.shape[1]"
      ]
    },
    {
      "cell_type": "code",
      "execution_count": null,
      "metadata": {
        "id": "lqjDCehbb5Lv",
        "outputId": "a8c6435e-f26d-473b-b187-1b686da7f036"
      },
      "outputs": [
        {
          "name": "stdout",
          "output_type": "stream",
          "text": [
            "x_val.shape : (20, 100)\n"
          ]
        }
      ],
      "source": [
        "x_val\n",
        "print(\"x_val.shape :\",x_val.shape  )"
      ]
    },
    {
      "cell_type": "code",
      "execution_count": null,
      "metadata": {
        "id": "s0c5m6Ezb5Lw",
        "outputId": "0bedcd1e-6e87-49c3-8ac4-2417f1f4b05f"
      },
      "outputs": [
        {
          "name": "stdout",
          "output_type": "stream",
          "text": [
            "y_val.shape : (20, 15)\n"
          ]
        }
      ],
      "source": [
        "y_val\n",
        "print(\"y_val.shape :\",y_val.shape  )"
      ]
    },
    {
      "cell_type": "code",
      "execution_count": null,
      "metadata": {
        "id": "jNmepPxIb5Lw",
        "outputId": "87610cdf-c0b8-4e76-ddda-1ed2c2d5c93d"
      },
      "outputs": [
        {
          "data": {
            "text/plain": [
              "178"
            ]
          },
          "execution_count": 66,
          "metadata": {},
          "output_type": "execute_result"
        }
      ],
      "source": [
        "y_tr.shape[0]"
      ]
    },
    {
      "cell_type": "code",
      "execution_count": null,
      "metadata": {
        "id": "iN-fS4zNb5Lw",
        "outputId": "ec19b2b3-d6a8-4ce4-8e14-979258a56919"
      },
      "outputs": [
        {
          "data": {
            "text/plain": [
              "15"
            ]
          },
          "execution_count": 67,
          "metadata": {},
          "output_type": "execute_result"
        }
      ],
      "source": [
        "y_tr.shape[1]"
      ]
    },
    {
      "cell_type": "markdown",
      "metadata": {
        "id": "C5W0DriGu7WT"
      },
      "source": [
        "**Start fitting the model with the data**"
      ]
    },
    {
      "cell_type": "code",
      "execution_count": null,
      "metadata": {
        "id": "_L0W2aN6u7WT",
        "outputId": "966449d6-159e-4ef4-e724-a5880957a5b8"
      },
      "outputs": [
        {
          "name": "stdout",
          "output_type": "stream",
          "text": [
            "Train on 178 samples, validate on 20 samples\n",
            "WARNING:tensorflow:From /home/saiful/anaconda3/envs/text_summary_nltk/lib/python3.7/site-packages/tensorflow/python/ops/math_grad.py:1250: add_dispatch_support.<locals>.wrapper (from tensorflow.python.ops.array_ops) is deprecated and will be removed in a future version.\n",
            "Instructions for updating:\n",
            "Use tf.where in 2.0, which has the same broadcast rule as np.where\n",
            "Epoch 1/50\n"
          ]
        },
        {
          "name": "stderr",
          "output_type": "stream",
          "text": [
            "2023-05-10 00:58:39.296368: I tensorflow/core/platform/cpu_feature_guard.cc:142] Your CPU supports instructions that this TensorFlow binary was not compiled to use: SSE4.1 SSE4.2 AVX AVX2 AVX512F FMA\n",
            "2023-05-10 00:58:39.313545: I tensorflow/core/platform/profile_utils/cpu_utils.cc:94] CPU Frequency: 2100000000 Hz\n",
            "2023-05-10 00:58:39.320887: I tensorflow/compiler/xla/service/service.cc:168] XLA service 0x9af6110 executing computations on platform Host. Devices:\n",
            "2023-05-10 00:58:39.320928: I tensorflow/compiler/xla/service/service.cc:175]   StreamExecutor device (0): <undefined>, <undefined>\n",
            "2023-05-10 00:58:39.323611: I tensorflow/stream_executor/platform/default/dso_loader.cc:42] Successfully opened dynamic library libcuda.so.1\n",
            "2023-05-10 00:58:39.605130: I tensorflow/compiler/xla/service/service.cc:168] XLA service 0x9b50c80 executing computations on platform CUDA. Devices:\n",
            "2023-05-10 00:58:39.605238: I tensorflow/compiler/xla/service/service.cc:175]   StreamExecutor device (0): Tesla V100-SXM2-32GB, Compute Capability 7.0\n",
            "2023-05-10 00:58:39.611301: I tensorflow/core/common_runtime/gpu/gpu_device.cc:1640] Found device 0 with properties: \n",
            "name: Tesla V100-SXM2-32GB major: 7 minor: 0 memoryClockRate(GHz): 1.53\n",
            "pciBusID: 0000:89:00.0\n",
            "2023-05-10 00:58:39.612061: I tensorflow/stream_executor/platform/default/dso_loader.cc:42] Successfully opened dynamic library libcudart.so.10.1\n",
            "2023-05-10 00:58:39.617677: I tensorflow/stream_executor/platform/default/dso_loader.cc:42] Successfully opened dynamic library libcublas.so.10\n",
            "2023-05-10 00:58:39.622896: I tensorflow/stream_executor/platform/default/dso_loader.cc:42] Successfully opened dynamic library libcufft.so.10\n",
            "2023-05-10 00:58:39.624363: I tensorflow/stream_executor/platform/default/dso_loader.cc:42] Successfully opened dynamic library libcurand.so.10\n",
            "2023-05-10 00:58:39.629834: I tensorflow/stream_executor/platform/default/dso_loader.cc:42] Successfully opened dynamic library libcusolver.so.10\n",
            "2023-05-10 00:58:39.631809: I tensorflow/stream_executor/platform/default/dso_loader.cc:42] Successfully opened dynamic library libcusparse.so.10\n",
            "2023-05-10 00:58:39.641120: I tensorflow/stream_executor/platform/default/dso_loader.cc:42] Successfully opened dynamic library libcudnn.so.7\n",
            "2023-05-10 00:58:39.648777: I tensorflow/core/common_runtime/gpu/gpu_device.cc:1763] Adding visible gpu devices: 0\n",
            "2023-05-10 00:58:39.648882: I tensorflow/stream_executor/platform/default/dso_loader.cc:42] Successfully opened dynamic library libcudart.so.10.1\n",
            "2023-05-10 00:58:39.655147: I tensorflow/core/common_runtime/gpu/gpu_device.cc:1181] Device interconnect StreamExecutor with strength 1 edge matrix:\n",
            "2023-05-10 00:58:39.655178: I tensorflow/core/common_runtime/gpu/gpu_device.cc:1187]      0 \n",
            "2023-05-10 00:58:39.655197: I tensorflow/core/common_runtime/gpu/gpu_device.cc:1200] 0:   N \n",
            "2023-05-10 00:58:39.662170: I tensorflow/core/common_runtime/gpu/gpu_device.cc:1326] Created TensorFlow device (/job:localhost/replica:0/task:0/device:GPU:0 with 30115 MB memory) -> physical GPU (device: 0, name: Tesla V100-SXM2-32GB, pci bus id: 0000:89:00.0, compute capability: 7.0)\n",
            "2023-05-10 00:58:43.878990: I tensorflow/stream_executor/platform/default/dso_loader.cc:42] Successfully opened dynamic library libcublas.so.10\n"
          ]
        },
        {
          "name": "stdout",
          "output_type": "stream",
          "text": [
            "178/178 [==============================] - 7s 40ms/sample - loss: 3.3409 - val_loss: 1.0559\n",
            "Epoch 2/50\n",
            "178/178 [==============================] - 1s 8ms/sample - loss: 1.5573 - val_loss: 1.3533\n",
            "Epoch 3/50\n",
            "178/178 [==============================] - 2s 9ms/sample - loss: 1.4952 - val_loss: 0.7487\n",
            "Epoch 4/50\n",
            "178/178 [==============================] - 2s 10ms/sample - loss: 0.9605 - val_loss: 0.7048\n",
            "Epoch 5/50\n",
            "178/178 [==============================] - 2s 10ms/sample - loss: 0.9053 - val_loss: 0.6763\n",
            "Epoch 6/50\n",
            "178/178 [==============================] - 2s 9ms/sample - loss: 0.8718 - val_loss: 0.6713\n",
            "Epoch 7/50\n",
            "178/178 [==============================] - 2s 9ms/sample - loss: 0.8458 - val_loss: 0.6654\n",
            "Epoch 8/50\n",
            "178/178 [==============================] - 2s 9ms/sample - loss: 0.8236 - val_loss: 0.6706\n",
            "Epoch 9/50\n",
            "178/178 [==============================] - 2s 10ms/sample - loss: 0.8300 - val_loss: 0.7077\n",
            "Epoch 00009: early stopping\n"
          ]
        }
      ],
      "source": [
        "history=model.fit([x_tr,y_tr[:,:-1]], y_tr.reshape(y_tr.shape[0],y_tr.shape[1], 1)[:,1:] ,epochs=50,callbacks=[es],batch_size=128, validation_data=([x_val,y_val[:,:-1]], y_val.reshape(y_val.shape[0],y_val.shape[1], 1)[:,1:]))\n"
      ]
    },
    {
      "cell_type": "markdown",
      "metadata": {
        "id": "D0xvOMXxu7WU"
      },
      "source": [
        "**Visualize the model learning**"
      ]
    },
    {
      "cell_type": "code",
      "execution_count": null,
      "metadata": {
        "id": "QIwYWl7ru7WU",
        "outputId": "06877789-3e03-4eac-ce3c-522fa62ef597"
      },
      "outputs": [
        {
          "data": {
            "image/png": "[encoded data removed]",
            "text/plain": [
              "<Figure size 640x480 with 1 Axes>"
            ]
          },
          "metadata": {},
          "output_type": "display_data"
        }
      ],
      "source": [
        "from matplotlib import pyplot\n",
        "pyplot.plot(history.history['loss'], label='train')\n",
        "pyplot.plot(history.history['val_loss'], label='test')\n",
        "pyplot.legend()\n",
        "pyplot.show()"
      ]
    },
    {
      "cell_type": "markdown",
      "metadata": {
        "id": "_gUBoajxu7WU"
      },
      "source": [
        "**Next, let’s build the dictionary to convert the index to word for target and source vocabulary:**"
      ]
    },
    {
      "cell_type": "code",
      "execution_count": null,
      "metadata": {
        "id": "JFCk60nYu7WU"
      },
      "outputs": [],
      "source": [
        "reverse_target_word_index=y_tokenizer.index_word\n",
        "reverse_source_word_index=x_tokenizer.index_word\n",
        "target_word_index=y_tokenizer.word_index"
      ]
    },
    {
      "cell_type": "code",
      "execution_count": null,
      "metadata": {
        "id": "4IOIb4IQu7WU"
      },
      "outputs": [],
      "source": [
        "# Encode the input sequence to get the feature vector\n",
        "encoder_model = Model(inputs=encoder_inputs,outputs=[encoder_outputs, state_h, state_c])\n",
        "\n",
        "# Decoder setup\n",
        "# Below tensors will hold the states of the previous time step\n",
        "decoder_state_input_h = Input(shape=(latent_dim,))\n",
        "decoder_state_input_c = Input(shape=(latent_dim,))\n",
        "decoder_hidden_state_input = Input(shape=(max_text_len,latent_dim))\n",
        "\n",
        "# Get the embeddings of the decoder sequence\n",
        "dec_emb2= dec_emb_layer(decoder_inputs) \n",
        "# To predict the next word in the sequence, set the initial states to the states from the previous time step\n",
        "decoder_outputs2, state_h2, state_c2 = decoder_lstm(dec_emb2, initial_state=[decoder_state_input_h, decoder_state_input_c])\n",
        "\n",
        "# A dense softmax layer to generate prob dist. over the target vocabulary\n",
        "decoder_outputs2 = decoder_dense(decoder_outputs2) \n",
        "\n",
        "# Final decoder model\n",
        "decoder_model = Model(\n",
        "    [decoder_inputs] + [decoder_hidden_state_input,decoder_state_input_h, decoder_state_input_c],\n",
        "    [decoder_outputs2] + [state_h2, state_c2])"
      ]
    },
    {
      "cell_type": "markdown",
      "metadata": {
        "id": "0D-8Kq1gu7WU"
      },
      "source": [
        "**We are defining a function below which is the implementation of the inference process**"
      ]
    },
    {
      "cell_type": "code",
      "execution_count": null,
      "metadata": {
        "id": "ErYK5cynu7WV"
      },
      "outputs": [],
      "source": [
        "def decode_sequence(input_seq):\n",
        "    # Encode the input as state vectors.\n",
        "    e_out, e_h, e_c = encoder_model.predict(input_seq)\n",
        "    \n",
        "    # Generate empty target sequence of length 1.\n",
        "    target_seq = np.zeros((1,1))\n",
        "    \n",
        "    # Populate the first word of target sequence with the start word.\n",
        "    target_seq[0, 0] = target_word_index['sostok']\n",
        "\n",
        "    stop_condition = False\n",
        "    decoded_sentence = ''\n",
        "    while not stop_condition:\n",
        "      \n",
        "        output_tokens, h, c = decoder_model.predict([target_seq] + [e_out, e_h, e_c])\n",
        "\n",
        "        # Sample a token\n",
        "        sampled_token_index = np.argmax(output_tokens[0, -1, :])\n",
        "        sampled_token = reverse_target_word_index[sampled_token_index]\n",
        "        \n",
        "        if(sampled_token!='eostok'):\n",
        "            decoded_sentence += ' '+sampled_token\n",
        "\n",
        "        # Exit condition: either hit max length or find stop word.\n",
        "        if (sampled_token == 'eostok'  or len(decoded_sentence.split()) >= (max_summary_len-1)):\n",
        "            stop_condition = True\n",
        "\n",
        "        # Update the target sequence (of length 1).\n",
        "        target_seq = np.zeros((1,1))\n",
        "        target_seq[0, 0] = sampled_token_index\n",
        "\n",
        "        # Update internal states\n",
        "        e_h, e_c = h, c\n",
        "\n",
        "    return decoded_sentence"
      ]
    },
    {
      "cell_type": "markdown",
      "metadata": {
        "id": "LPmhB6Pqu7WV"
      },
      "source": [
        "**Let us define the functions to convert an integer sequence to a word sequence for summary as well as the reviews:**\n"
      ]
    },
    {
      "cell_type": "code",
      "execution_count": null,
      "metadata": {
        "id": "u01IYo_Cu7WV"
      },
      "outputs": [],
      "source": [
        "def seq2summary(input_seq):\n",
        "    newString=''\n",
        "    for i in input_seq:\n",
        "        if((i!=0 and i!=target_word_index['sostok']) and i!=target_word_index['eostok']):\n",
        "            newString=newString+reverse_target_word_index[i]+' '\n",
        "    return newString\n",
        "\n",
        "def seq2text(input_seq):\n",
        "    newString=''\n",
        "    for i in input_seq:\n",
        "        if(i!=0):\n",
        "            newString=newString+reverse_source_word_index[i]+' '\n",
        "    return newString"
      ]
    },
    {
      "cell_type": "markdown",
      "metadata": {
        "id": "4TecPI_yu7WV"
      },
      "source": [
        "**Run the model over the data to see the results**"
      ]
    },
    {
      "cell_type": "code",
      "execution_count": null,
      "metadata": {
        "id": "uMtD98N9u7WV",
        "outputId": "adf88502-01bc-4050-e6d8-7ced579e5630"
      },
      "outputs": [
        {
          "name": "stdout",
          "output_type": "stream",
          "text": [
            "Review: apple on tuesday said its sales in fell in the december quarter nearly 5 billion of lost apple fell 5 to 3 billion during the quarter while profit fell to 19 billion the in and for the first time in more than 10 years \n",
            "Original summary: start in from end \n",
            "Predicted summary:  start start end end\n",
            "\n",
            "\n",
            "Review: the us intelligence report has by will to in india and it also of in india in of the the report claimed indian and in india to their \n",
            "Original summary: start in india us end \n",
            "Predicted summary:  start start end end\n",
            "\n",
            "\n",
            "Review: minister took dig at congress president rahul gandhi by calling him who has no about who mother who and the son is to be is that even he said he added such be found in in the world \n",
            "Original summary: start rahul is end \n",
            "Predicted summary:  start start end end\n",
            "\n",
            "\n",
            "Review: a 25 year old man named was allegedly killed by the two of his in mumbai on tuesday the police said was to his house he was at when her him the 19 year old and year old who were to their after the incident but were arrested \n",
            "Original summary: start old man by in end \n",
            "Predicted summary:  start start end end\n",
            "\n",
            "\n",
            "Review: kapoor has been over for american in by the is part of 2019 on calling out instagram wrote the is part of by american to the against \n",
            "Original summary: start for in end \n",
            "Predicted summary:  start start end end\n",
            "\n",
            "\n",
            "Review: after congress chief rahul gandhi claimed goa cm manohar parrikar told him he had nothing to do with the new rafale deal bjp minister asked rahul not to visit added it the for rahul gandhi to do when you come to about person it should be to that \n",
            "Original summary: start to bjp rahul end \n",
            "Predicted summary:  start start end end\n",
            "\n",
            "\n",
            "Review: india has been on the corruption index 2018 by the up three from the us has been out of top 20 on the index for the first time since the index which and \n",
            "Original summary: start india on us of end \n",
            "Predicted summary:  start start end end\n",
            "\n",
            "\n",
            "Review: finance dhfl fell as as 11 on tuesday following media report that alleged over 000 crore by its the the report alleged they including money from state run to dhfl in said the report was made with to its and \n",
            "Original summary: start after end \n",
            "Predicted summary:  start start end end\n",
            "\n",
            "\n",
            "Review: actress took to instagram to on the of marriage marriage was as like you so get the government so you read this is an to the of marriage an instagram user on her \n",
            "Original summary: start as end \n",
            "Predicted summary:  start start end end\n",
            "\n",
            "\n",
            "Review: prime minister narendra modi on wednesday said the people with are him and his government for he added people are about such as building and free to the he further said that with in the country \n",
            "Original summary: start with pm end \n",
            "Predicted summary:  start start end end\n",
            "\n",
            "\n"
          ]
        }
      ],
      "source": [
        "for i in range(0,10):\n",
        "    print(\"Review:\",seq2text(x_tr[i]))\n",
        "    print(\"Original summary:\",seq2summary(y_tr[i]))\n",
        "    print(\"Predicted summary:\",decode_sequence(x_tr[i].reshape(1,max_text_len)))\n",
        "    print(\"\\n\")"
      ]
    },
    {
      "cell_type": "code",
      "execution_count": null,
      "metadata": {
        "id": "45vVAjX0b5L1"
      },
      "outputs": [],
      "source": []
    }
  ],
  "metadata": {
    "accelerator": "GPU",
    "colab": {
      "provenance": []
    },
    "gpuClass": "standard",
    "kernelspec": {
      "display_name": "Python 3 (ipykernel)",
      "language": "python",
      "name": "python3"
    },
    "language_info": {
      "codemirror_mode": {
        "name": "ipython",
        "version": 3
      },
      "file_extension": ".py",
      "mimetype": "text/x-python",
      "name": "python",
      "nbconvert_exporter": "python",
      "pygments_lexer": "ipython3",
      "version": "3.9.7"
    }
  },
  "nbformat": 4,
  "nbformat_minor": 0
}